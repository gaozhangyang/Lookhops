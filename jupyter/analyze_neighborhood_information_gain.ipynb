{
 "cells": [
  {
   "cell_type": "code",
   "execution_count": 1,
   "metadata": {},
   "outputs": [],
   "source": [
    "from torch_geometric.datasets import TUDataset\n",
    "from torch_geometric.data import DataLoader\n",
    "from torch_geometric.utils import k_hop_subgraph\n",
    "import torch_geometric\n",
    "import os\n",
    "import numpy as np\n",
    "import torch\n",
    "from torch.distributions.distribution import Distribution\n",
    "from scipy.stats import gaussian_kde\n",
    "import tqdm\n",
    "from KDEpy import FFTKDE\n",
    "from torch_sparse import spspmm\n",
    "from torch_scatter import scatter_add,scatter_sum\n",
    "import matplotlib.pyplot as plt\n",
    "import scipy\n",
    "import pickle"
   ]
  },
  {
   "cell_type": "markdown",
   "metadata": {
    "heading_collapsed": true
   },
   "source": [
    "# summary of datasets"
   ]
  },
  {
   "cell_type": "code",
   "execution_count": 2,
   "metadata": {
    "hidden": true
   },
   "outputs": [],
   "source": [
    "DataName=['PROTEINS','DD','NCI1','NCI109','Mutagenicity','ENZYMES','FRANKENSTEIN']\n",
    "summary={name:{} for name in DataName}\n",
    "for name in DataName:\n",
    "    dataset = TUDataset(os.path.join('../ex_graph/data',name), name=name, use_node_attr=True)\n",
    "    summary[name]['G']=dataset.data.y.shape[0]\n",
    "    summary[name]['V']=dataset.data.x.shape[0]\n",
    "    summary[name]['E']=dataset.data.edge_index.shape[1]/2\n",
    "    summary[name]['avgV']='{:.4f}'.format(summary[name]['V']/summary[name]['G'])\n",
    "    summary[name]['avgE']='{:.4f}'.format(summary[name]['E']/summary[name]['V'])\n",
    "    summary[name]['F']=dataset.data.x.shape[1]\n",
    "    summary[name]['C']=len(set(dataset.data.y.numpy()))"
   ]
  },
  {
   "cell_type": "code",
   "execution_count": 3,
   "metadata": {
    "hidden": true
   },
   "outputs": [
    {
     "data": {
      "text/plain": [
       "{'PROTEINS': {'G': 1113,\n",
       "  'V': 43471,\n",
       "  'E': 81044.0,\n",
       "  'avgV': '39.0575',\n",
       "  'avgE': '1.8643',\n",
       "  'F': 4,\n",
       "  'C': 2},\n",
       " 'DD': {'G': 1178,\n",
       "  'V': 334925,\n",
       "  'E': 843046.0,\n",
       "  'avgV': '284.3166',\n",
       "  'avgE': '2.5171',\n",
       "  'F': 89,\n",
       "  'C': 2},\n",
       " 'NCI1': {'G': 4110,\n",
       "  'V': 122747,\n",
       "  'E': 132753.0,\n",
       "  'avgV': '29.8655',\n",
       "  'avgE': '1.0815',\n",
       "  'F': 37,\n",
       "  'C': 2},\n",
       " 'NCI109': {'G': 4127,\n",
       "  'V': 122494,\n",
       "  'E': 132604.0,\n",
       "  'avgV': '29.6811',\n",
       "  'avgE': '1.0825',\n",
       "  'F': 38,\n",
       "  'C': 2},\n",
       " 'Mutagenicity': {'G': 4337,\n",
       "  'V': 131488,\n",
       "  'E': 133447.0,\n",
       "  'avgV': '30.3177',\n",
       "  'avgE': '1.0149',\n",
       "  'F': 14,\n",
       "  'C': 2},\n",
       " 'ENZYMES': {'G': 600,\n",
       "  'V': 19580,\n",
       "  'E': 37282.0,\n",
       "  'avgV': '32.6333',\n",
       "  'avgE': '1.9041',\n",
       "  'F': 21,\n",
       "  'C': 6},\n",
       " 'FRANKENSTEIN': {'G': 4337,\n",
       "  'V': 73283,\n",
       "  'E': 77534.0,\n",
       "  'avgV': '16.8972',\n",
       "  'avgE': '1.0580',\n",
       "  'F': 780,\n",
       "  'C': 2}}"
      ]
     },
     "execution_count": 3,
     "metadata": {},
     "output_type": "execute_result"
    }
   ],
   "source": [
    "summary"
   ]
  },
  {
   "cell_type": "markdown",
   "metadata": {},
   "source": [
    "# $H(X_c(i)|k)$\n",
    "\n",
    "- input: $ G(X,E), k $\n",
    "- output: $ H(c|k) $ for all $c$"
   ]
  },
  {
   "cell_type": "markdown",
   "metadata": {},
   "source": [
    "## estimate $P_g$"
   ]
  },
  {
   "cell_type": "code",
   "execution_count": 2,
   "metadata": {},
   "outputs": [],
   "source": [
    "def estimate_P(support,x):\n",
    "    kde0=gaussian_kde(support,bw_method='silverman') # silverman  scott\n",
    "    value,freq=np.unique(support,return_counts=True)\n",
    "    kde=gaussian_kde(value,bw_method=kde0.factor,weights=freq)\n",
    "    P=kde(x)\n",
    "    return P\n",
    "\n",
    "def get_P(\n",
    "                DataName=['PROTEINS','DD','NCI1','NCI109','Mutagenicity','ENZYMES','FRANKENSTEIN'],\n",
    "                N_feature=[4,89,37,38,14,21,780],\n",
    "                batch_size=32\n",
    "            ):\n",
    "    '''\n",
    "    ['PROTEINS','DD','NCI1','NCI109','Mutagenicity','ENZYMES','FRANKENSTEIN']\n",
    "    '''\n",
    "    P_dataset={dataname:None for dataname in DataName}\n",
    "    \n",
    "    for i in range(len(DataName)):\n",
    "        dataset = TUDataset(os.path.join('data',DataName[i]), name=DataName[i], use_node_attr=True)\n",
    "        train_loader = DataLoader(dataset, batch_size=batch_size, shuffle=True)\n",
    "        X,edge_index,node_batch,edge_batch=[],[],[],[]\n",
    "        for b,data in enumerate(train_loader):\n",
    "            X.append(data.x)\n",
    "            edge_index.append(data.edge_index)\n",
    "            node_batch.append(torch.zeros(data.x.shape[0])+b)\n",
    "            edge_batch.append(torch.zeros(data.edge_index.shape[1])+b)\n",
    "        X=torch.vstack(X)\n",
    "        edge_index=torch.hstack(edge_index)\n",
    "        node_batch=torch.hstack(node_batch)\n",
    "        edge_batch=torch.hstack(edge_batch)\n",
    "        \n",
    "        P_all=None\n",
    "        use_channel=[]\n",
    "        for channel in tqdm.tqdm(range(N_feature[i])):\n",
    "            x=X[:,channel]\n",
    "            if torch.unique(x).shape[0]==1:\n",
    "                continue\n",
    "            use_channel.append(channel)\n",
    "            P=estimate_P(x,x)\n",
    "            P=torch.tensor(P.reshape(-1,1))\n",
    "            if P_all is None:\n",
    "                P_all=P\n",
    "            else:\n",
    "                P_all=torch.hstack([P_all,P])\n",
    "                \n",
    "        P_all[P_all.isnan()]=0\n",
    "        P_dataset[DataName[i]]=(P_all,edge_index,node_batch,edge_batch,use_channel)\n",
    "    return P_dataset"
   ]
  },
  {
   "cell_type": "code",
   "execution_count": 3,
   "metadata": {},
   "outputs": [],
   "source": [
    "if not os.path.exists('P_dataset.pkl'):\n",
    "    P_dataset=get_P()\n",
    "    pickle.dump(P_dataset, open('P_dataset.pkl', 'wb'))\n",
    "else:\n",
    "    P_dataset=pickle.load(open('P_dataset.pkl', 'rb'))"
   ]
  },
  {
   "cell_type": "code",
   "execution_count": 4,
   "metadata": {},
   "outputs": [],
   "source": [
    "P2=pickle.load(open('P_dataset_backup.pkl', 'rb'))"
   ]
  },
  {
   "cell_type": "markdown",
   "metadata": {},
   "source": [
    "## $H(x;i,c,k)$"
   ]
  },
  {
   "cell_type": "code",
   "execution_count": 4,
   "metadata": {},
   "outputs": [],
   "source": [
    "import torch\n",
    "import torch.nn as nn\n",
    "from scipy.stats import gaussian_kde\n",
    "import numpy as np"
   ]
  },
  {
   "cell_type": "code",
   "execution_count": 5,
   "metadata": {},
   "outputs": [],
   "source": [
    "from torch_geometric.nn.conv import MessagePassing\n",
    "\n",
    "class EntropyGCN(MessagePassing):\n",
    "    def __init__(self,normalize=True):\n",
    "        super(EntropyGCN, self).__init__(aggr='add')\n",
    "        self.normalize=normalize\n",
    "\n",
    "    def forward(self, P, edge_index,k):\n",
    "        n,c_in=P.shape\n",
    "        edge_index_raw=edge_index\n",
    "        for i in range(0,k-1):\n",
    "            edge_index,_=spspmm(edge_index,None,edge_index_raw,None,n,n,n)\n",
    "\n",
    "\n",
    "        P_local_sum=scatter_sum(P[edge_index[0]],edge_index[1],dim=0)\n",
    "        P_hat=P[edge_index[0]]/P_local_sum[edge_index[1]]\n",
    "        entropy=-scatter_sum(P_hat*torch.log(P_hat),edge_index[1],dim=0)\n",
    "        return entropy\n",
    "\n",
    "    def message(self, x_j, norm):\n",
    "        # x_j: [E,out_channels] (46042,82)\n",
    "        # norm: [E,out_channels] (46042,82)\n",
    "        if norm is None:\n",
    "            return x_j\n",
    "        else:\n",
    "            return  x_j*norm\n",
    "\n",
    "    def update(self, aggr_out):\n",
    "        return aggr_out\n",
    "\n",
    "    def __repr__(self):\n",
    "        return '{}({}, {})'.format(self.__class__.__name__, self.in_channels, self.out_channels)\n",
    "\n",
    "    \n",
    "device=[7]\n",
    "class Bacth_GCN(nn.Module):\n",
    "    def __init__(self):\n",
    "        super(Bacth_GCN,self).__init__()\n",
    "        self.gcn=EntropyGCN()\n",
    "    \n",
    "    def forward(self,P,edge_index,node_batch,edge_batch,k):\n",
    "        Batch=torch.unique(node_batch)\n",
    "        Entropy_all=None\n",
    "        for B in Batch:\n",
    "            mask_node=(node_batch==B)\n",
    "            mask_edge=(edge_batch==B)\n",
    "            P0=P[mask_node].to(device[0])\n",
    "            edge_index0=edge_index[:,mask_edge].to(device[0])\n",
    "            \n",
    "            Entropy=self.gcn(P0,edge_index0,k)\n",
    "            \n",
    "            if Entropy_all is None:\n",
    "                Entropy_all=Entropy\n",
    "            else:\n",
    "                Entropy_all=torch.vstack([Entropy_all,Entropy])\n",
    "        \n",
    "        return Entropy_all\n",
    "\n",
    "\n",
    "def get_entropy(P_dataset):\n",
    "    '''\n",
    "    ['PROTEINS','DD','NCI1','NCI109','Mutagenicity','ENZYMES','FRANKENSTEIN']\n",
    "    '''\n",
    "    bgcn=Bacth_GCN().to(device[0])\n",
    "    DataName=['PROTEINS','DD','NCI1','NCI109','Mutagenicity','ENZYMES','FRANKENSTEIN']\n",
    "    \n",
    "    entropy_all={dataname:[] for dataname in DataName}\n",
    "    with torch.no_grad():\n",
    "        for i in range(len(DataName)):\n",
    "            P,edge_index,node_batch,edge_batch,_=P_dataset[DataName[i]]\n",
    "            for k in tqdm.tqdm(range(1,10)):\n",
    "                entropy=bgcn(P,edge_index,node_batch,edge_batch,k=k)\n",
    "                entropy_all[DataName[i]].append(entropy)\n",
    "            del P\n",
    "            del edge_index\n",
    "            torch.cuda.empty_cache()\n",
    "    return entropy_all"
   ]
  },
  {
   "cell_type": "code",
   "execution_count": 6,
   "metadata": {},
   "outputs": [],
   "source": [
    "if not os.path.exists('entropy_all.pkl'):\n",
    "    entropy_all=get_entropy(P_dataset)\n",
    "    pickle.dump(entropy_all, open('entropy_all.pkl', 'wb'))\n",
    "else:\n",
    "    entropy_all=pickle.load(open('entropy_all.pkl', 'rb'))"
   ]
  },
  {
   "cell_type": "markdown",
   "metadata": {
    "heading_collapsed": true
   },
   "source": [
    "## visualize entropy"
   ]
  },
  {
   "cell_type": "code",
   "execution_count": 67,
   "metadata": {
    "hidden": true
   },
   "outputs": [
    {
     "name": "stderr",
     "output_type": "stream",
     "text": [
      "100%|██████████| 9/9 [05:04<00:00, 33.78s/it]\n",
      "100%|██████████| 9/9 [00:23<00:00,  2.62s/it]\n",
      "100%|██████████| 9/9 [01:47<00:00, 11.91s/it]\n",
      "100%|██████████| 9/9 [01:44<00:00, 11.67s/it]\n",
      "100%|██████████| 9/9 [00:37<00:00,  4.21s/it]\n",
      "100%|██████████| 9/9 [01:50<00:00, 12.26s/it]\n"
     ]
    }
   ],
   "source": [
    "for dataname in ['DD','PROTEINS','NCI1','NCI109','Mutagenicity','ENZYMES']:\n",
    "    for k in tqdm.tqdm(range(9)):\n",
    "        entropy=entropy_all[dataname][k].cpu()\n",
    "        for channel in range(entropy.shape[1]):\n",
    "            value_support=entropy[:,channel]#[entropy[:,channel]>=0]\n",
    "            x_anchor=np.linspace(value_support.min(),value_support.max(),1000)\n",
    "            P = estimate_P(value_support,x_anchor)\n",
    "            plt.scatter(x_anchor,P)\n",
    "            plt.savefig('./figs/{}_{}_{}.png'.format(dataname,channel,k+1))\n",
    "            plt.close()"
   ]
  },
  {
   "cell_type": "markdown",
   "metadata": {},
   "source": [
    "## entropy diff"
   ]
  },
  {
   "cell_type": "code",
   "execution_count": 61,
   "metadata": {},
   "outputs": [],
   "source": [
    "def EntropyDiff_Channel(x1,x2,keq1=False):\n",
    "    if keq1:\n",
    "        x_min=np.min(x2)\n",
    "        x_max=np.max(x2)\n",
    "        anchor=np.linspace(x_min,x_max,1000)\n",
    "        delta=(x_max-x_min)/1000\n",
    "        P1=1.0\n",
    "        P2=estimate_P(x2,anchor)\n",
    "        KL=np.sum(delta*P2*np.log((P2+1e-15)/(P1+1e-15)))\n",
    "    else:\n",
    "        x_min=min(np.min(x1),np.min(x2))\n",
    "        x_max=max(np.max(x1),np.max(x2))\n",
    "\n",
    "        anchor=np.linspace(x_min,x_max,1000)\n",
    "        delta=(x_max-x_min)/1000\n",
    "\n",
    "        P1=estimate_P(x1,anchor)\n",
    "        P2=estimate_P(x2,anchor)\n",
    "        KL=np.sum(delta*P2*np.log((P2+1e-15)/(P1+1e-15)))\n",
    "    return KL\n",
    "\n",
    "def EntropyDiff_MeanChannels(X1,X2,keq1=False):\n",
    "    entropys=[]\n",
    "    for i in range(X1.shape[1]):\n",
    "        x1=X1[:,i]\n",
    "        x2=X2[:,i]\n",
    "        entropys.append(EntropyDiff_Channel(x1,x2,keq1))\n",
    "    return np.mean(entropys)\n",
    "\n",
    "def EntropyDiff_Dataset(dataname):\n",
    "    dataset=entropy_all[dataname]\n",
    "    entropy_diffs=[]\n",
    "    \n",
    "    ##########for k=1\n",
    "    X2=dataset[0].cpu().numpy()\n",
    "    X1=np.ones_like(X2)\n",
    "    entropy_diff=EntropyDiff_MeanChannels(X1,X2,keq1=True)\n",
    "    entropy_diffs.append(entropy_diff)\n",
    "        \n",
    "    ##########for k>1\n",
    "    for i in tqdm.tqdm(range(0,8)):\n",
    "        X1=dataset[i].cpu().numpy()\n",
    "        X2=dataset[i+1].cpu().numpy()\n",
    "        entropy_diff=EntropyDiff_MeanChannels(X1,X2,keq1=False)\n",
    "        entropy_diffs.append(entropy_diff)\n",
    "    return entropy_diffs"
   ]
  },
  {
   "cell_type": "code",
   "execution_count": 15,
   "metadata": {},
   "outputs": [],
   "source": [
    "def get_EntropyDiffs():\n",
    "    entropy_diffs_PROTEINS=EntropyDiff_Dataset('PROTEINS')\n",
    "    entropy_diffs_DD=EntropyDiff_Dataset('DD')\n",
    "    entropy_diffs_NCI1=EntropyDiff_Dataset('NCI1')\n",
    "    entropy_diffs_NCI109=EntropyDiff_Dataset('NCI109')\n",
    "    entropy_diffs_Mutagenicity=EntropyDiff_Dataset('Mutagenicity')\n",
    "    entropy_diffs_ENZYMES=EntropyDiff_Dataset('ENZYMES')\n",
    "    entropy_diffs_FRANKENSTEIN=EntropyDiff_Dataset('FRANKENSTEIN')\n",
    "\n",
    "    entropy_diffs={}\n",
    "    entropy_diffs['PROTEINS']=entropy_diffs_PROTEINS\n",
    "    entropy_diffs['DD']=entropy_diffs_DD\n",
    "    entropy_diffs['NCI1']=entropy_diffs_NCI1\n",
    "    entropy_diffs['NCI109']=entropy_diffs_NCI109\n",
    "    entropy_diffs['Mutagenicity']=entropy_diffs_Mutagenicity\n",
    "    entropy_diffs['ENZYMES']=entropy_diffs_ENZYMES\n",
    "    entropy_diffs['FRANKENSTEIN']=entropy_diffs_FRANKENSTEIN\n",
    "    return entropy_diffs"
   ]
  },
  {
   "cell_type": "code",
   "execution_count": 16,
   "metadata": {},
   "outputs": [
    {
     "name": "stderr",
     "output_type": "stream",
     "text": [
      "100%|██████████| 8/8 [00:18<00:00,  2.35s/it]\n",
      "100%|██████████| 8/8 [02:52<00:00, 21.51s/it]\n",
      "100%|██████████| 8/8 [00:13<00:00,  1.63s/it]\n",
      "100%|██████████| 8/8 [00:14<00:00,  1.86s/it]\n",
      "100%|██████████| 8/8 [00:07<00:00,  1.10it/s]\n",
      "100%|██████████| 8/8 [01:31<00:00, 11.39s/it]\n",
      "100%|██████████| 8/8 [1:04:52<00:00, 486.52s/it]\n"
     ]
    }
   ],
   "source": [
    "if not os.path.exists('entropy_diffs.pkl'):\n",
    "    entropy_diffs=get_EntropyDiffs()\n",
    "    pickle.dump(entropy_diffs, open('entropy_diffs.pkl', 'wb'))\n",
    "else:\n",
    "    entropy_diffs=pickle.load(open('entropy_diffs.pkl', 'rb'))"
   ]
  },
  {
   "cell_type": "code",
   "execution_count": 21,
   "metadata": {},
   "outputs": [
    {
     "name": "stdout",
     "output_type": "stream",
     "text": [
      "['3.8503', '1.0700', '0.3455', '0.1315', '0.0603', '0.0306', '0.0175', '0.0100']\n",
      "['7.0546', '1.5698', '0.7453', '0.4308', '0.2739', '0.1748', '0.1135', '0.0741']\n",
      "['7.4610', '0.9752', '0.4677', '0.1911', '0.1312', '0.0635', '0.0507', '0.0240']\n",
      "['5.5049', '1.0010', '0.4762', '0.1943', '0.1315', '0.0632', '0.0514', '0.0239']\n",
      "['6.4713', '0.7819', '0.5094', '0.1421', '0.1311', '0.0398', '0.0376', '0.0134']\n",
      "['7.3800', '1.1552', '0.3211', '0.1272', '0.0626', '0.0332', '0.0199', '0.0138']\n",
      "['5.0895', '0.6851', '0.3016', '0.1003', '0.0631', '0.0261', '0.0175', '0.0073']\n"
     ]
    }
   ],
   "source": [
    "for i,name in enumerate(['PROTEINS','DD','NCI1','NCI109','Mutagenicity','ENZYMES','FRANKENSTEIN']):\n",
    "    print(['{:.4f}'.format(one) for one in entropy_diffs[name]])"
   ]
  },
  {
   "cell_type": "code",
   "execution_count": 53,
   "metadata": {
    "scrolled": false
   },
   "outputs": [
    {
     "name": "stdout",
     "output_type": "stream",
     "text": [
      "PROTEINS:\t0.9995,\t0.0007,\t1.2501,\t46.8505\n",
      "DD:\t0.9915,\t0.0422,\t1.3622,\t107.0625\n",
      "NCI1:\t0.9965,\t0.0200,\t1.9339,\t356.5393\n",
      "NCI109:\t0.9952,\t0.0149,\t1.5853,\t130.8210\n",
      "Mutagenicity:\t0.9943,\t0.0246,\t1.9743,\t335.1961\n",
      "ENZYMES:\t0.9993,\t0.0040,\t1.8121,\t276.5534\n",
      "FRANKENSTEIN:\t0.9976,\t0.0066,\t1.9169,\t235.0988\n"
     ]
    },
    {
     "data": {
      "image/png": "[encoded data removed]",
      "text/plain": [
       "<Figure size 432x288 with 1 Axes>"
      ]
     },
     "metadata": {
      "needs_background": "light"
     },
     "output_type": "display_data"
    }
   ],
   "source": [
    "from scipy import optimize\n",
    "from scipy.special import gamma\n",
    "from sklearn.metrics import  r2_score,mean_squared_error\n",
    "\n",
    "def density_func(x,alpha,beta):\n",
    "    return beta*np.exp(-alpha*x)\n",
    "\n",
    "for i,name in enumerate(['PROTEINS','DD','NCI1','NCI109','Mutagenicity','ENZYMES','FRANKENSTEIN']):\n",
    "    params, params_covariance = optimize.curve_fit(\n",
    "                                                    density_func, \n",
    "                                                   np.array(range(2,10)), \n",
    "                                                   np.array(entropy_diffs[name]), \n",
    "                                                   p0=[0.5,0.5]\n",
    "                                                  )\n",
    "\n",
    "    x=np.array(range(2,10))\n",
    "    plt.scatter(x,entropy_diffs[name],c='C{}'.format(i))\n",
    "\n",
    "    x=np.linspace(2,10,50)\n",
    "    y=density_func(x,params[0],params[1])\n",
    "    plt.plot(x,y,c='C{}'.format(i),label=name,linestyle='--')\n",
    "    plt.legend()\n",
    "    \n",
    "    y_pred=density_func(np.array(range(2,10)),params[0],params[1])\n",
    "    y_true=np.array(entropy_diffs[name])\n",
    "    r2=r2_score(y_true,y_pred)\n",
    "    mse=mean_squared_error(y_true,y_pred)\n",
    "    print('{}:\\t{:.4f},\\t{:.4f},\\t{:.4f},\\t{:.4f}'.format(name,r2,mse,params[0],params[1]))\n",
    "#     plt.show()"
   ]
  },
  {
   "cell_type": "code",
   "execution_count": 49,
   "metadata": {},
   "outputs": [
    {
     "data": {
      "text/plain": [
       "array([[1.46366372e-02, 6.95810268e+00],\n",
       "       [6.95810268e+00, 3.32608736e+03]])"
      ]
     },
     "execution_count": 49,
     "metadata": {},
     "output_type": "execute_result"
    }
   ],
   "source": [
    "params_covariance"
   ]
  },
  {
   "cell_type": "code",
   "execution_count": 45,
   "metadata": {},
   "outputs": [
    {
     "data": {
      "image/png": "[encoded data removed]",
      "text/plain": [
       "<Figure size 432x288 with 1 Axes>"
      ]
     },
     "metadata": {
      "needs_background": "light"
     },
     "output_type": "display_data"
    }
   ],
   "source": [
    "for i,name in enumerate(['PROTEINS','DD','NCI1','NCI109','Mutagenicity','ENZYMES','FRANKENSTEIN']):\n",
    "    plt.scatter(range(2,10),entropy_diffs[name],c='C{}'.format(i),label=name)\n",
    "    plt.legend()"
   ]
  },
  {
   "cell_type": "markdown",
   "metadata": {
    "heading_collapsed": true
   },
   "source": [
    "# Protein"
   ]
  },
  {
   "cell_type": "code",
   "execution_count": 160,
   "metadata": {
    "hidden": true
   },
   "outputs": [],
   "source": [
    "dataset = TUDataset(os.path.join('data', 'PROTEINS'), name='PROTEINS', use_node_attr=True)\n",
    "train_loader = DataLoader(dataset, batch_size=int(np.sum(dataset.data.num_nodes)), shuffle=True)\n",
    "for data in train_loader:\n",
    "    break\n",
    "\n",
    "X,edge_index=data.x,data.edge_index\n",
    "kdes=[gaussian_kde(X[:,i],bw_method='silverman') for i in range(X.shape[1])]"
   ]
  },
  {
   "cell_type": "code",
   "execution_count": 163,
   "metadata": {
    "hidden": true
   },
   "outputs": [],
   "source": [
    "n = X.shape[0]\n",
    "value = edge_index.new_ones((edge_index.size(1),), dtype=torch.float)\n",
    "deg = scatter_add(value, edge_index[0], dim=0, dim_size=n)\n",
    "\n",
    "P=kdes[1](X[:,1])\n",
    "PlogP=P*np.log2(P)\n",
    "PlogP=torch.tensor(PlogP.reshape(-1,1))"
   ]
  },
  {
   "cell_type": "code",
   "execution_count": 164,
   "metadata": {
    "hidden": true
   },
   "outputs": [
    {
     "data": {
      "text/plain": [
       "<matplotlib.collections.PathCollection at 0x7fe7edd979e8>"
      ]
     },
     "execution_count": 164,
     "metadata": {},
     "output_type": "execute_result"
    },
    {
     "data": {
      "image/png": "[encoded data removed]",
      "text/plain": [
       "<Figure size 432x288 with 1 Axes>"
      ]
     },
     "metadata": {
      "needs_background": "light"
     },
     "output_type": "display_data"
    }
   ],
   "source": [
    "entropy,P=gcn(PlogP,edge_index,k=1)\n",
    "plt.scatter(entropy,P)"
   ]
  },
  {
   "cell_type": "code",
   "execution_count": 165,
   "metadata": {
    "hidden": true
   },
   "outputs": [
    {
     "data": {
      "text/plain": [
       "<matplotlib.collections.PathCollection at 0x7fe7ed588c88>"
      ]
     },
     "execution_count": 165,
     "metadata": {},
     "output_type": "execute_result"
    },
    {
     "data": {
      "image/png": "[encoded data removed]",
      "text/plain": [
       "<Figure size 432x288 with 1 Axes>"
      ]
     },
     "metadata": {
      "needs_background": "light"
     },
     "output_type": "display_data"
    }
   ],
   "source": [
    "entropy,P=gcn(PlogP,edge_index,k=2)\n",
    "plt.scatter(entropy,P)"
   ]
  },
  {
   "cell_type": "code",
   "execution_count": 166,
   "metadata": {
    "hidden": true
   },
   "outputs": [
    {
     "data": {
      "text/plain": [
       "<matplotlib.collections.PathCollection at 0x7fe7efb95c18>"
      ]
     },
     "execution_count": 166,
     "metadata": {},
     "output_type": "execute_result"
    },
    {
     "data": {
      "image/png": "[encoded data removed]",
      "text/plain": [
       "<Figure size 432x288 with 1 Axes>"
      ]
     },
     "metadata": {
      "needs_background": "light"
     },
     "output_type": "display_data"
    }
   ],
   "source": [
    "entropy,P=gcn(PlogP,edge_index,k=3)\n",
    "plt.scatter(entropy,P)"
   ]
  },
  {
   "cell_type": "code",
   "execution_count": 167,
   "metadata": {
    "hidden": true
   },
   "outputs": [
    {
     "data": {
      "text/plain": [
       "<matplotlib.collections.PathCollection at 0x7fe7edf9f358>"
      ]
     },
     "execution_count": 167,
     "metadata": {},
     "output_type": "execute_result"
    },
    {
     "data": {
      "image/png": "[encoded data removed]",
      "text/plain": [
       "<Figure size 432x288 with 1 Axes>"
      ]
     },
     "metadata": {
      "needs_background": "light"
     },
     "output_type": "display_data"
    }
   ],
   "source": [
    "entropy,P=gcn(PlogP,edge_index,k=4)\n",
    "plt.scatter(entropy,P)"
   ]
  },
  {
   "cell_type": "code",
   "execution_count": 168,
   "metadata": {
    "hidden": true
   },
   "outputs": [
    {
     "data": {
      "text/plain": [
       "<matplotlib.collections.PathCollection at 0x7fe7ed812a20>"
      ]
     },
     "execution_count": 168,
     "metadata": {},
     "output_type": "execute_result"
    },
    {
     "data": {
      "image/png": "[encoded data removed]",
      "text/plain": [
       "<Figure size 432x288 with 1 Axes>"
      ]
     },
     "metadata": {
      "needs_background": "light"
     },
     "output_type": "display_data"
    }
   ],
   "source": [
    "entropy,P=gcn(PlogP,edge_index,k=5)\n",
    "plt.scatter(entropy,P)"
   ]
  },
  {
   "cell_type": "code",
   "execution_count": 169,
   "metadata": {
    "hidden": true
   },
   "outputs": [
    {
     "data": {
      "text/plain": [
       "<matplotlib.collections.PathCollection at 0x7fe7ed7e8128>"
      ]
     },
     "execution_count": 169,
     "metadata": {},
     "output_type": "execute_result"
    },
    {
     "data": {
      "image/png": "[encoded data removed]",
      "text/plain": [
       "<Figure size 432x288 with 1 Axes>"
      ]
     },
     "metadata": {
      "needs_background": "light"
     },
     "output_type": "display_data"
    }
   ],
   "source": [
    "entropy,P=gcn(PlogP,edge_index,k=6)\n",
    "plt.scatter(entropy,P)"
   ]
  }
 ],
 "metadata": {
  "kernelspec": {
   "display_name": "ML",
   "language": "python",
   "name": "ml"
  },
  "language_info": {
   "codemirror_mode": {
    "name": "ipython",
    "version": 3
   },
   "file_extension": ".py",
   "mimetype": "text/x-python",
   "name": "python",
   "nbconvert_exporter": "python",
   "pygments_lexer": "ipython3",
   "version": "3.7.9"
  },
  "latex_envs": {
   "LaTeX_envs_menu_present": true,
   "autoclose": false,
   "autocomplete": true,
   "bibliofile": "biblio.bib",
   "cite_by": "apalike",
   "current_citInitial": 1,
   "eqLabelWithNumbers": true,
   "eqNumInitial": 1,
   "hotkeys": {
    "equation": "Ctrl-E",
    "itemize": "Ctrl-I"
   },
   "labels_anchors": false,
   "latex_user_defs": false,
   "report_style_numbering": false,
   "user_envs_cfg": false
  },
  "toc": {
   "base_numbering": 1,
   "nav_menu": {},
   "number_sections": true,
   "sideBar": true,
   "skip_h1_title": false,
   "title_cell": "Table of Contents",
   "title_sidebar": "Contents",
   "toc_cell": false,
   "toc_position": {},
   "toc_section_display": true,
   "toc_window_display": false
  }
 },
 "nbformat": 4,
 "nbformat_minor": 4
}
