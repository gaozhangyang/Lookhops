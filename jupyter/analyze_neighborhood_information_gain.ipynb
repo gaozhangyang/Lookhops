{
 "cells": [
  {
   "cell_type": "code",
   "execution_count": 1,
   "metadata": {},
   "outputs": [],
   "source": [
    "from torch_geometric.datasets import TUDataset\n",
    "from torch_geometric.data import DataLoader\n",
    "from torch_geometric.utils import k_hop_subgraph\n",
    "import torch_geometric\n",
    "import os\n",
    "import numpy as np\n",
    "import torch\n",
    "from torch.distributions.distribution import Distribution\n",
    "from scipy.stats import gaussian_kde\n",
    "import tqdm\n",
    "from KDEpy import FFTKDE\n",
    "from torch_sparse import spspmm\n",
    "from torch_scatter import scatter_add\n",
    "import matplotlib.pyplot as plt\n",
    "import statsmodels.api as sm\n",
    "import scipy\n",
    "import pickle"
   ]
  },
  {
   "cell_type": "markdown",
   "metadata": {},
   "source": [
    "# PlogP"
   ]
  },
  {
   "cell_type": "code",
   "execution_count": 3,
   "metadata": {
    "code_folding": []
   },
   "outputs": [],
   "source": [
    "def get_PlogP(\n",
    "                DataName=['DD','PROTEINS','NCI1','NCI109','Mutagenicity','ENZYMES'],\n",
    "                N_feature=[89,4,37,38,14,21],\n",
    "                batch_size=32\n",
    "            ):\n",
    "    '''\n",
    "    ['DD','PROTEINS','NCI1','NCI109','Mutagenicity','ENZYMES']\n",
    "    '''\n",
    "    PlogP_dataset={dataname:None for dataname in DataName}\n",
    "    \n",
    "    for i in range(len(DataName)):\n",
    "        dataset = TUDataset(os.path.join('data',DataName[i]), name=DataName[i], use_node_attr=True)\n",
    "        train_loader = DataLoader(dataset, batch_size=batch_size, shuffle=True)\n",
    "        X,edge_index,node_batch,edge_batch=[],[],[],[]\n",
    "        for b,data in enumerate(train_loader):\n",
    "            X.append(data.x)\n",
    "            edge_index.append(data.edge_index)\n",
    "            node_batch.append(torch.zeros(data.x.shape[0])+b)\n",
    "            edge_batch.append(torch.zeros(data.edge_index.shape[1])+b)\n",
    "        X=torch.vstack(X)\n",
    "        edge_index=torch.hstack(edge_index)\n",
    "        node_batch=torch.hstack(node_batch)\n",
    "        edge_batch=torch.hstack(edge_batch)\n",
    "        \n",
    "        PlogP_all=None\n",
    "        use_channel=[]\n",
    "        for channel in tqdm.tqdm(range(N_feature[i])):\n",
    "            x=X[:,channel]\n",
    "            if torch.unique(x).shape[0]==1:\n",
    "                continue\n",
    "            use_channel.append(channel)\n",
    "            P=estimate_P(x,x)\n",
    "            PlogP=P*np.log2(P)\n",
    "            PlogP=torch.tensor(PlogP.reshape(-1,1))\n",
    "            PlogP_all\n",
    "            if PlogP_all is None:\n",
    "                PlogP_all=PlogP\n",
    "            else:\n",
    "                PlogP_all=torch.hstack([PlogP_all,PlogP])\n",
    "                \n",
    "        PlogP_all[PlogP_all.isnan()]=0\n",
    "        PlogP_dataset[DataName[i]]=(PlogP_all,edge_index,node_batch,edge_batch,use_channel)\n",
    "    return PlogP_dataset\n",
    "\n",
    "def estimate_P(support,x):\n",
    "    kde0=gaussian_kde(support,bw_method='silverman') # silverman  scott\n",
    "    value,freq=np.unique(support,return_counts=True)\n",
    "    kde=gaussian_kde(value,bw_method=kde0.factor,weights=freq)\n",
    "    P=kde(x)\n",
    "    return P"
   ]
  },
  {
   "cell_type": "code",
   "execution_count": 4,
   "metadata": {},
   "outputs": [],
   "source": [
    "if not os.path.exists('PlogP_dataset.pkl'):\n",
    "    PlogP_dataset=get_PlogP()\n",
    "    pickle.dump(PlogP_dataset, open('PlogP_dataset.pkl', 'wb'))\n",
    "else:\n",
    "    PlogP_dataset=pickle.load(open('PlogP_dataset.pkl', 'rb'))"
   ]
  },
  {
   "cell_type": "markdown",
   "metadata": {},
   "source": [
    "# entropy"
   ]
  },
  {
   "cell_type": "code",
   "execution_count": 5,
   "metadata": {},
   "outputs": [],
   "source": [
    "from torch_geometric.nn.conv import MessagePassing\n",
    "class GCN(MessagePassing):\n",
    "    def __init__(self):\n",
    "        super(GCN, self).__init__(aggr='add')\n",
    "        pass\n",
    "\n",
    "    def forward(self, x_row, edge_index_row,node_batch,edge_batch,k):\n",
    "        node_batch,edge_batch=node_batch.to(x_row.device),edge_batch.to(x_row.device)\n",
    "        Batch=torch.unique(node_batch)\n",
    "        entropy=None\n",
    "        for B in Batch:\n",
    "            mask_node=(node_batch==B)\n",
    "            mask_edge=(edge_batch==B)\n",
    "            x=x_row[mask_node]\n",
    "            edge_index=edge_index_row[:,mask_edge]\n",
    "            \n",
    "            n,c_in=x.shape\n",
    "            edge_index_raw=edge_index\n",
    "            for i in range(0,k-1):\n",
    "                edge_index,_=spspmm(edge_index,None,edge_index_raw,None,n,n,n)\n",
    "            value = edge_index.new_ones((edge_index.size(1),), dtype=torch.float,device=x_row.device)\n",
    "            self.deg = scatter_add(value, edge_index[0], dim=0, dim_size=n)\n",
    "\n",
    "            entropy_new=-self.propagate(edge_index, x=x, norm=None)\n",
    "            entropy_new=entropy_new.view(-1,c_in).cpu().numpy()\n",
    "            \n",
    "            if entropy is None:\n",
    "                entropy=entropy_new\n",
    "            else:\n",
    "                entropy=np.vstack([entropy,entropy_new])\n",
    "        return entropy\n",
    "\n",
    "    def message(self, x_j, norm):\n",
    "        return  x_j\n",
    "\n",
    "    def update(self, aggr_out):\n",
    "        return aggr_out/(self.deg.view(-1,1)+1e-10)\n",
    "\n",
    "    def __repr__(self):\n",
    "        return '{}({}, {})'.format(self.__class__.__name__, self.in_channels, self.out_channels)"
   ]
  },
  {
   "cell_type": "code",
   "execution_count": 6,
   "metadata": {},
   "outputs": [],
   "source": [
    "device=[5]\n",
    "def get_entropy(PlogP_dataset):\n",
    "    '''\n",
    "    ['DD','PROTEINS','NCI1','NCI109','Mutagenicity','ENZYMES']\n",
    "    '''\n",
    "    gcn=GCN().to(device[0])\n",
    "    DataName=['DD','PROTEINS','NCI1','NCI109','Mutagenicity','ENZYMES']\n",
    "    \n",
    "    entropy_all={dataname:[] for dataname in DataName}\n",
    "    with torch.no_grad():\n",
    "        for i in range(len(DataName)):\n",
    "            PlogP,edge_index,node_batch,edge_batch,_=PlogP_dataset[DataName[i]]\n",
    "            PlogP,edge_index = PlogP.to(device[0]),edge_index.to(device[0])\n",
    "            for k in tqdm.tqdm(range(1,10)):\n",
    "                entropy=gcn(PlogP,edge_index,node_batch,edge_batch,k=k)\n",
    "                entropy_all[DataName[i]].append(entropy)\n",
    "            del PlogP\n",
    "            del edge_index\n",
    "    return entropy_all"
   ]
  },
  {
   "cell_type": "code",
   "execution_count": 7,
   "metadata": {
    "scrolled": true
   },
   "outputs": [],
   "source": [
    "if not os.path.exists('entropy_all.pkl'):\n",
    "    entropy_all=get_entropy(PlogP_dataset)\n",
    "    pickle.dump(entropy_all, open('entropy_all.pkl', 'wb'))\n",
    "else:\n",
    "    entropy_all=pickle.load(open('entropy_all.pkl', 'rb'))"
   ]
  },
  {
   "cell_type": "markdown",
   "metadata": {
    "heading_collapsed": true
   },
   "source": [
    "# plot"
   ]
  },
  {
   "cell_type": "code",
   "execution_count": 13,
   "metadata": {
    "hidden": true
   },
   "outputs": [
    {
     "name": "stderr",
     "output_type": "stream",
     "text": [
      "100%|██████████| 9/9 [03:06<00:00, 20.74s/it]\n",
      "100%|██████████| 9/9 [00:14<00:00,  1.58s/it]\n",
      "100%|██████████| 9/9 [01:03<00:00,  7.01s/it]\n",
      "100%|██████████| 9/9 [01:04<00:00,  7.15s/it]\n",
      "100%|██████████| 9/9 [00:23<00:00,  2.66s/it]\n",
      "100%|██████████| 9/9 [01:18<00:00,  8.76s/it]\n"
     ]
    }
   ],
   "source": [
    "for dataname in ['DD','PROTEINS','NCI1','NCI109','Mutagenicity','ENZYMES']:\n",
    "    for k in tqdm.tqdm(range(9)):\n",
    "        entropy=entropy_all[dataname][k]\n",
    "        for channel in range(entropy.shape[1]):\n",
    "            value_support=entropy[:,channel]#[entropy[:,channel]>=0]\n",
    "            x_anchor=np.linspace(value_support.min(),value_support.max(),1000)\n",
    "            P = estimate_P(value_support,x_anchor)\n",
    "            plt.scatter(x_anchor,P)\n",
    "            plt.savefig('./figs/{}_{}_{}.png'.format(dataname,channel,k+1))\n",
    "            plt.close()"
   ]
  },
  {
   "cell_type": "markdown",
   "metadata": {},
   "source": [
    "# entropy diff"
   ]
  },
  {
   "cell_type": "code",
   "execution_count": null,
   "metadata": {},
   "outputs": [],
   "source": [
    "anchor==np.linspace(value_support.min(),value_support.max(),1000)"
   ]
  },
  {
   "cell_type": "code",
   "execution_count": 26,
   "metadata": {},
   "outputs": [],
   "source": [
    "entropy_DD=np.array(entropy_all['DD'])"
   ]
  },
  {
   "cell_type": "code",
   "execution_count": 29,
   "metadata": {},
   "outputs": [
    {
     "data": {
      "text/plain": [
       "-17.89591923667804"
      ]
     },
     "execution_count": 29,
     "metadata": {},
     "output_type": "execute_result"
    }
   ],
   "source": [
    "entropy_DD[:,:,0].min()"
   ]
  },
  {
   "cell_type": "code",
   "execution_count": 30,
   "metadata": {},
   "outputs": [
    {
     "data": {
      "text/plain": [
       "0.440636571638177"
      ]
     },
     "execution_count": 30,
     "metadata": {},
     "output_type": "execute_result"
    }
   ],
   "source": [
    "entropy_DD[:,:,0].max()"
   ]
  },
  {
   "cell_type": "code",
   "execution_count": null,
   "metadata": {},
   "outputs": [],
   "source": [
    "entropy_all['DD'][1][:,0]"
   ]
  },
  {
   "cell_type": "code",
   "execution_count": null,
   "metadata": {},
   "outputs": [],
   "source": [
    "scipy.stats.entropy()"
   ]
  },
  {
   "cell_type": "markdown",
   "metadata": {},
   "source": [
    "# $H(X_c(i)|k)$\n",
    "\n",
    "- input: $ G(X,E), k $\n",
    "- output: $ H(c|k) $ for all $c$"
   ]
  },
  {
   "cell_type": "code",
   "execution_count": 3,
   "metadata": {},
   "outputs": [],
   "source": [
    "import torch\n",
    "import torch.nn as nn\n",
    "from scipy.stats import gaussian_kde\n",
    "import numpy as np"
   ]
  },
  {
   "cell_type": "code",
   "execution_count": 12,
   "metadata": {},
   "outputs": [],
   "source": [
    "from torch_geometric.nn.conv import MessagePassing\n",
    "class GCN(MessagePassing):\n",
    "    def __init__(self):\n",
    "        super(GCN, self).__init__(aggr='add')\n",
    "        pass\n",
    "\n",
    "    def forward(self, x, edge_index,k):\n",
    "        n,c_in=x.shape\n",
    "        edge_index_raw=edge_index\n",
    "        for i in range(0,k-1):\n",
    "            edge_index,_=spspmm(edge_index,None,edge_index_raw,None,n,n,n)\n",
    "        value = edge_index.new_ones((edge_index.size(1),), dtype=torch.float,device=x_raw.device)\n",
    "\n",
    "        entropy_new=-self.propagate(edge_index, x=x, norm=None)\n",
    "        entropy_new=entropy_new.reshape(-1,c_in)\n",
    "        return entropy\n",
    "\n",
    "    def message(self, x_j, norm):\n",
    "        return  x_j\n",
    "\n",
    "    def update(self, aggr_out):\n",
    "        return aggr_out\n",
    "\n",
    "    def __repr__(self):\n",
    "        return '{}({}, {})'.format(self.__class__.__name__, self.in_channels, self.out_channels)\n",
    "\n",
    "\n",
    "class GraphEntropy(torch.nn.Module):\n",
    "    def __init__(self):\n",
    "        super(GraphEntropy,self).__init__()\n",
    "        self.gcn=GCN()\n",
    "        \n",
    "    def forward(self,x,edge_index):\n",
    "        '''\n",
    "        input tensor on cpu\n",
    "        '''\n",
    "        device=X.device\n",
    "        ################  P  ################# TODO estimate the density\n",
    "        X=X.detach().cpu().numpy()\n",
    "        P=None\n",
    "        for channel in range(X.shape[1]):\n",
    "            x=X[:,i]\n",
    "            p=estimate_P(x,x).reshape(-1,1)\n",
    "            if P is None:\n",
    "                P=p\n",
    "            else:\n",
    "                P=np.hstack([P,p])\n",
    "        \n",
    "        P=torch.tensor(P,device=device)\n",
    "        sP=gcn()\n",
    "        \n",
    "    def estimate_P(self,support,x):\n",
    "        kde0=gaussian_kde(support,bw_method='silverman') # silverman  scott\n",
    "        value,freq=np.unique(support,return_counts=True)\n",
    "        kde=gaussian_kde(value,bw_method=kde0.factor,weights=freq)\n",
    "        P=kde(x)\n",
    "        return P"
   ]
  },
  {
   "cell_type": "code",
   "execution_count": 5,
   "metadata": {},
   "outputs": [],
   "source": [
    "x=np.random.rand(100)"
   ]
  },
  {
   "cell_type": "code",
   "execution_count": 6,
   "metadata": {},
   "outputs": [],
   "source": [
    "P0=gaussian_kde(x,0.1)(x)"
   ]
  },
  {
   "cell_type": "code",
   "execution_count": 8,
   "metadata": {},
   "outputs": [],
   "source": [
    "P1=torch_gaussian_kde(0.1)(torch.tensor(x),torch.tensor(x))"
   ]
  },
  {
   "cell_type": "markdown",
   "metadata": {},
   "source": [
    "# Protein"
   ]
  },
  {
   "cell_type": "code",
   "execution_count": 160,
   "metadata": {},
   "outputs": [],
   "source": [
    "dataset = TUDataset(os.path.join('data', 'PROTEINS'), name='PROTEINS', use_node_attr=True)\n",
    "train_loader = DataLoader(dataset, batch_size=int(np.sum(dataset.data.num_nodes)), shuffle=True)\n",
    "for data in train_loader:\n",
    "    break\n",
    "\n",
    "X,edge_index=data.x,data.edge_index\n",
    "kdes=[gaussian_kde(X[:,i],bw_method='silverman') for i in range(X.shape[1])]"
   ]
  },
  {
   "cell_type": "code",
   "execution_count": 163,
   "metadata": {},
   "outputs": [],
   "source": [
    "n = X.shape[0]\n",
    "value = edge_index.new_ones((edge_index.size(1),), dtype=torch.float)\n",
    "deg = scatter_add(value, edge_index[0], dim=0, dim_size=n)\n",
    "\n",
    "P=kdes[1](X[:,1])\n",
    "PlogP=P*np.log2(P)\n",
    "PlogP=torch.tensor(PlogP.reshape(-1,1))"
   ]
  },
  {
   "cell_type": "code",
   "execution_count": 164,
   "metadata": {},
   "outputs": [
    {
     "data": {
      "text/plain": [
       "<matplotlib.collections.PathCollection at 0x7fe7edd979e8>"
      ]
     },
     "execution_count": 164,
     "metadata": {},
     "output_type": "execute_result"
    },
    {
     "data": {
      "image/png": "[encoded data removed]",
      "text/plain": [
       "<Figure size 432x288 with 1 Axes>"
      ]
     },
     "metadata": {
      "needs_background": "light"
     },
     "output_type": "display_data"
    }
   ],
   "source": [
    "entropy,P=gcn(PlogP,edge_index,k=1)\n",
    "plt.scatter(entropy,P)"
   ]
  },
  {
   "cell_type": "code",
   "execution_count": 165,
   "metadata": {},
   "outputs": [
    {
     "data": {
      "text/plain": [
       "<matplotlib.collections.PathCollection at 0x7fe7ed588c88>"
      ]
     },
     "execution_count": 165,
     "metadata": {},
     "output_type": "execute_result"
    },
    {
     "data": {
      "image/png": "[encoded data removed]",
      "text/plain": [
       "<Figure size 432x288 with 1 Axes>"
      ]
     },
     "metadata": {
      "needs_background": "light"
     },
     "output_type": "display_data"
    }
   ],
   "source": [
    "entropy,P=gcn(PlogP,edge_index,k=2)\n",
    "plt.scatter(entropy,P)"
   ]
  },
  {
   "cell_type": "code",
   "execution_count": 166,
   "metadata": {},
   "outputs": [
    {
     "data": {
      "text/plain": [
       "<matplotlib.collections.PathCollection at 0x7fe7efb95c18>"
      ]
     },
     "execution_count": 166,
     "metadata": {},
     "output_type": "execute_result"
    },
    {
     "data": {
      "image/png": "[encoded data removed]",
      "text/plain": [
       "<Figure size 432x288 with 1 Axes>"
      ]
     },
     "metadata": {
      "needs_background": "light"
     },
     "output_type": "display_data"
    }
   ],
   "source": [
    "entropy,P=gcn(PlogP,edge_index,k=3)\n",
    "plt.scatter(entropy,P)"
   ]
  },
  {
   "cell_type": "code",
   "execution_count": 167,
   "metadata": {},
   "outputs": [
    {
     "data": {
      "text/plain": [
       "<matplotlib.collections.PathCollection at 0x7fe7edf9f358>"
      ]
     },
     "execution_count": 167,
     "metadata": {},
     "output_type": "execute_result"
    },
    {
     "data": {
      "image/png": "[encoded data removed]",
      "text/plain": [
       "<Figure size 432x288 with 1 Axes>"
      ]
     },
     "metadata": {
      "needs_background": "light"
     },
     "output_type": "display_data"
    }
   ],
   "source": [
    "entropy,P=gcn(PlogP,edge_index,k=4)\n",
    "plt.scatter(entropy,P)"
   ]
  },
  {
   "cell_type": "code",
   "execution_count": 168,
   "metadata": {},
   "outputs": [
    {
     "data": {
      "text/plain": [
       "<matplotlib.collections.PathCollection at 0x7fe7ed812a20>"
      ]
     },
     "execution_count": 168,
     "metadata": {},
     "output_type": "execute_result"
    },
    {
     "data": {
      "image/png": "[encoded data removed]",
      "text/plain": [
       "<Figure size 432x288 with 1 Axes>"
      ]
     },
     "metadata": {
      "needs_background": "light"
     },
     "output_type": "display_data"
    }
   ],
   "source": [
    "entropy,P=gcn(PlogP,edge_index,k=5)\n",
    "plt.scatter(entropy,P)"
   ]
  },
  {
   "cell_type": "code",
   "execution_count": 169,
   "metadata": {},
   "outputs": [
    {
     "data": {
      "text/plain": [
       "<matplotlib.collections.PathCollection at 0x7fe7ed7e8128>"
      ]
     },
     "execution_count": 169,
     "metadata": {},
     "output_type": "execute_result"
    },
    {
     "data": {
      "image/png": "[encoded data removed]",
      "text/plain": [
       "<Figure size 432x288 with 1 Axes>"
      ]
     },
     "metadata": {
      "needs_background": "light"
     },
     "output_type": "display_data"
    }
   ],
   "source": [
    "entropy,P=gcn(PlogP,edge_index,k=6)\n",
    "plt.scatter(entropy,P)"
   ]
  }
 ],
 "metadata": {
  "kernelspec": {
   "display_name": "ML",
   "language": "python",
   "name": "ml"
  },
  "language_info": {
   "codemirror_mode": {
    "name": "ipython",
    "version": 3
   },
   "file_extension": ".py",
   "mimetype": "text/x-python",
   "name": "python",
   "nbconvert_exporter": "python",
   "pygments_lexer": "ipython3",
   "version": "3.6.10"
  },
  "latex_envs": {
   "LaTeX_envs_menu_present": true,
   "autoclose": false,
   "autocomplete": true,
   "bibliofile": "biblio.bib",
   "cite_by": "apalike",
   "current_citInitial": 1,
   "eqLabelWithNumbers": true,
   "eqNumInitial": 1,
   "hotkeys": {
    "equation": "Ctrl-E",
    "itemize": "Ctrl-I"
   },
   "labels_anchors": false,
   "latex_user_defs": false,
   "report_style_numbering": false,
   "user_envs_cfg": false
  },
  "toc": {
   "base_numbering": 1,
   "nav_menu": {},
   "number_sections": true,
   "sideBar": true,
   "skip_h1_title": false,
   "title_cell": "Table of Contents",
   "title_sidebar": "Contents",
   "toc_cell": false,
   "toc_position": {},
   "toc_section_display": true,
   "toc_window_display": false
  }
 },
 "nbformat": 4,
 "nbformat_minor": 4
}
