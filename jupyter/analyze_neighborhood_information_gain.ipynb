{
 "cells": [
  {
   "cell_type": "code",
   "execution_count": 45,
   "metadata": {},
   "outputs": [],
   "source": [
    "from torch_geometric.datasets import TUDataset\n",
    "from torch_geometric.data import DataLoader\n",
    "from torch_geometric.utils import k_hop_subgraph\n",
    "import torch_geometric\n",
    "import os\n",
    "import numpy as np\n",
    "import torch\n",
    "from torch.distributions.distribution import Distribution\n",
    "from scipy.stats import gaussian_kde\n",
    "import tqdm\n",
    "from KDEpy import FFTKDE\n",
    "from torch_sparse import spspmm\n",
    "from torch_scatter import scatter_add,scatter_sum\n",
    "import matplotlib.pyplot as plt\n",
    "import statsmodels.api as sm\n",
    "import scipy\n",
    "import pickle"
   ]
  },
  {
   "cell_type": "markdown",
   "metadata": {
    "heading_collapsed": true
   },
   "source": [
    "# PlogP"
   ]
  },
  {
   "cell_type": "code",
   "execution_count": 3,
   "metadata": {
    "code_folding": [],
    "hidden": true
   },
   "outputs": [],
   "source": [
    "def get_PlogP(\n",
    "                DataName=['DD','PROTEINS','NCI1','NCI109','Mutagenicity','ENZYMES'],\n",
    "                N_feature=[89,4,37,38,14,21],\n",
    "                batch_size=32\n",
    "            ):\n",
    "    '''\n",
    "    ['DD','PROTEINS','NCI1','NCI109','Mutagenicity','ENZYMES']\n",
    "    '''\n",
    "    PlogP_dataset={dataname:None for dataname in DataName}\n",
    "    \n",
    "    for i in range(len(DataName)):\n",
    "        dataset = TUDataset(os.path.join('data',DataName[i]), name=DataName[i], use_node_attr=True)\n",
    "        train_loader = DataLoader(dataset, batch_size=batch_size, shuffle=True)\n",
    "        X,edge_index,node_batch,edge_batch=[],[],[],[]\n",
    "        for b,data in enumerate(train_loader):\n",
    "            X.append(data.x)\n",
    "            edge_index.append(data.edge_index)\n",
    "            node_batch.append(torch.zeros(data.x.shape[0])+b)\n",
    "            edge_batch.append(torch.zeros(data.edge_index.shape[1])+b)\n",
    "        X=torch.vstack(X)\n",
    "        edge_index=torch.hstack(edge_index)\n",
    "        node_batch=torch.hstack(node_batch)\n",
    "        edge_batch=torch.hstack(edge_batch)\n",
    "        \n",
    "        PlogP_all=None\n",
    "        use_channel=[]\n",
    "        for channel in tqdm.tqdm(range(N_feature[i])):\n",
    "            x=X[:,channel]\n",
    "            if torch.unique(x).shape[0]==1:\n",
    "                continue\n",
    "            use_channel.append(channel)\n",
    "            P=estimate_P(x,x)\n",
    "            PlogP=P*np.log2(P)\n",
    "            PlogP=torch.tensor(PlogP.reshape(-1,1))\n",
    "            PlogP_all\n",
    "            if PlogP_all is None:\n",
    "                PlogP_all=PlogP\n",
    "            else:\n",
    "                PlogP_all=torch.hstack([PlogP_all,PlogP])\n",
    "                \n",
    "        PlogP_all[PlogP_all.isnan()]=0\n",
    "        PlogP_dataset[DataName[i]]=(PlogP_all,edge_index,node_batch,edge_batch,use_channel)\n",
    "    return PlogP_dataset\n",
    "\n",
    "def estimate_P(support,x):\n",
    "    kde0=gaussian_kde(support,bw_method='silverman') # silverman  scott\n",
    "    value,freq=np.unique(support,return_counts=True)\n",
    "    kde=gaussian_kde(value,bw_method=kde0.factor,weights=freq)\n",
    "    P=kde(x)\n",
    "    return P"
   ]
  },
  {
   "cell_type": "code",
   "execution_count": 4,
   "metadata": {
    "hidden": true
   },
   "outputs": [],
   "source": [
    "if not os.path.exists('PlogP_dataset.pkl'):\n",
    "    PlogP_dataset=get_PlogP()\n",
    "    pickle.dump(PlogP_dataset, open('PlogP_dataset.pkl', 'wb'))\n",
    "else:\n",
    "    PlogP_dataset=pickle.load(open('PlogP_dataset.pkl', 'rb'))"
   ]
  },
  {
   "cell_type": "markdown",
   "metadata": {
    "heading_collapsed": true
   },
   "source": [
    "# entropy"
   ]
  },
  {
   "cell_type": "code",
   "execution_count": 5,
   "metadata": {
    "hidden": true
   },
   "outputs": [],
   "source": [
    "from torch_geometric.nn.conv import MessagePassing\n",
    "class GCN(MessagePassing):\n",
    "    def __init__(self):\n",
    "        super(GCN, self).__init__(aggr='add')\n",
    "        pass\n",
    "\n",
    "    def forward(self, x_row, edge_index_row,node_batch,edge_batch,k):\n",
    "        node_batch,edge_batch=node_batch.to(x_row.device),edge_batch.to(x_row.device)\n",
    "        Batch=torch.unique(node_batch)\n",
    "        entropy=None\n",
    "        for B in Batch:\n",
    "            mask_node=(node_batch==B)\n",
    "            mask_edge=(edge_batch==B)\n",
    "            x=x_row[mask_node]\n",
    "            edge_index=edge_index_row[:,mask_edge]\n",
    "            \n",
    "            n,c_in=x.shape\n",
    "            edge_index_raw=edge_index\n",
    "            for i in range(0,k-1):\n",
    "                edge_index,_=spspmm(edge_index,None,edge_index_raw,None,n,n,n)\n",
    "            value = edge_index.new_ones((edge_index.size(1),), dtype=torch.float,device=x_row.device)\n",
    "            self.deg = scatter_add(value, edge_index[0], dim=0, dim_size=n)\n",
    "\n",
    "            entropy_new=-self.propagate(edge_index, x=x, norm=None)\n",
    "            entropy_new=entropy_new.view(-1,c_in).cpu().numpy()\n",
    "            \n",
    "            if entropy is None:\n",
    "                entropy=entropy_new\n",
    "            else:\n",
    "                entropy=np.vstack([entropy,entropy_new])\n",
    "        return entropy\n",
    "\n",
    "    def message(self, x_j, norm):\n",
    "        return  x_j\n",
    "\n",
    "    def update(self, aggr_out):\n",
    "        return aggr_out/(self.deg.view(-1,1)+1e-10)\n",
    "\n",
    "    def __repr__(self):\n",
    "        return '{}({}, {})'.format(self.__class__.__name__, self.in_channels, self.out_channels)"
   ]
  },
  {
   "cell_type": "code",
   "execution_count": 6,
   "metadata": {
    "hidden": true
   },
   "outputs": [],
   "source": [
    "device=[5]\n",
    "def get_entropy(PlogP_dataset):\n",
    "    '''\n",
    "    ['DD','PROTEINS','NCI1','NCI109','Mutagenicity','ENZYMES']\n",
    "    '''\n",
    "    gcn=GCN().to(device[0])\n",
    "    DataName=['DD','PROTEINS','NCI1','NCI109','Mutagenicity','ENZYMES']\n",
    "    \n",
    "    entropy_all={dataname:[] for dataname in DataName}\n",
    "    with torch.no_grad():\n",
    "        for i in range(len(DataName)):\n",
    "            PlogP,edge_index,node_batch,edge_batch,_=PlogP_dataset[DataName[i]]\n",
    "            PlogP,edge_index = PlogP.to(device[0]),edge_index.to(device[0])\n",
    "            for k in tqdm.tqdm(range(1,10)):\n",
    "                entropy=gcn(PlogP,edge_index,node_batch,edge_batch,k=k)\n",
    "                entropy_all[DataName[i]].append(entropy)\n",
    "            del PlogP\n",
    "            del edge_index\n",
    "    return entropy_all"
   ]
  },
  {
   "cell_type": "code",
   "execution_count": 7,
   "metadata": {
    "hidden": true,
    "scrolled": true
   },
   "outputs": [],
   "source": [
    "if not os.path.exists('entropy_all.pkl'):\n",
    "    entropy_all=get_entropy(PlogP_dataset)\n",
    "    pickle.dump(entropy_all, open('entropy_all.pkl', 'wb'))\n",
    "else:\n",
    "    entropy_all=pickle.load(open('entropy_all.pkl', 'rb'))"
   ]
  },
  {
   "cell_type": "markdown",
   "metadata": {},
   "source": [
    "# plot"
   ]
  },
  {
   "cell_type": "code",
   "execution_count": 13,
   "metadata": {},
   "outputs": [
    {
     "name": "stderr",
     "output_type": "stream",
     "text": [
      "100%|██████████| 9/9 [03:06<00:00, 20.74s/it]\n",
      "100%|██████████| 9/9 [00:14<00:00,  1.58s/it]\n",
      "100%|██████████| 9/9 [01:03<00:00,  7.01s/it]\n",
      "100%|██████████| 9/9 [01:04<00:00,  7.15s/it]\n",
      "100%|██████████| 9/9 [00:23<00:00,  2.66s/it]\n",
      "100%|██████████| 9/9 [01:18<00:00,  8.76s/it]\n"
     ]
    }
   ],
   "source": [
    "for dataname in ['DD','PROTEINS','NCI1','NCI109','Mutagenicity','ENZYMES']:\n",
    "    for k in tqdm.tqdm(range(9)):\n",
    "        entropy=entropy_all[dataname][k]\n",
    "        for channel in range(entropy.shape[1]):\n",
    "            value_support=entropy[:,channel]#[entropy[:,channel]>=0]\n",
    "            x_anchor=np.linspace(value_support.min(),value_support.max(),1000)\n",
    "            P = estimate_P(value_support,x_anchor)\n",
    "            plt.scatter(x_anchor,P)\n",
    "            plt.savefig('./figs/{}_{}_{}.png'.format(dataname,channel,k+1))\n",
    "            plt.close()"
   ]
  },
  {
   "cell_type": "markdown",
   "metadata": {
    "heading_collapsed": true
   },
   "source": [
    "# entropy diff"
   ]
  },
  {
   "cell_type": "code",
   "execution_count": null,
   "metadata": {
    "hidden": true
   },
   "outputs": [],
   "source": [
    "anchor==np.linspace(value_support.min(),value_support.max(),1000)"
   ]
  },
  {
   "cell_type": "code",
   "execution_count": 26,
   "metadata": {
    "hidden": true
   },
   "outputs": [],
   "source": [
    "entropy_DD=np.array(entropy_all['DD'])"
   ]
  },
  {
   "cell_type": "code",
   "execution_count": 29,
   "metadata": {
    "hidden": true
   },
   "outputs": [
    {
     "data": {
      "text/plain": [
       "-17.89591923667804"
      ]
     },
     "execution_count": 29,
     "metadata": {},
     "output_type": "execute_result"
    }
   ],
   "source": [
    "entropy_DD[:,:,0].min()"
   ]
  },
  {
   "cell_type": "code",
   "execution_count": 30,
   "metadata": {
    "hidden": true
   },
   "outputs": [
    {
     "data": {
      "text/plain": [
       "0.440636571638177"
      ]
     },
     "execution_count": 30,
     "metadata": {},
     "output_type": "execute_result"
    }
   ],
   "source": [
    "entropy_DD[:,:,0].max()"
   ]
  },
  {
   "cell_type": "code",
   "execution_count": null,
   "metadata": {
    "hidden": true
   },
   "outputs": [],
   "source": [
    "entropy_all['DD'][1][:,0]"
   ]
  },
  {
   "cell_type": "code",
   "execution_count": null,
   "metadata": {
    "hidden": true
   },
   "outputs": [],
   "source": [
    "scipy.stats.entropy()"
   ]
  },
  {
   "cell_type": "markdown",
   "metadata": {},
   "source": [
    "# $H(X_c(i)|k)$\n",
    "\n",
    "- input: $ G(X,E), k $\n",
    "- output: $ H(c|k) $ for all $c$"
   ]
  },
  {
   "cell_type": "markdown",
   "metadata": {},
   "source": [
    "## estimate P"
   ]
  },
  {
   "cell_type": "code",
   "execution_count": 5,
   "metadata": {},
   "outputs": [],
   "source": [
    "def estimate_P(support,x):\n",
    "    kde0=gaussian_kde(support,bw_method='silverman') # silverman  scott\n",
    "    value,freq=np.unique(support,return_counts=True)\n",
    "    kde=gaussian_kde(value,bw_method=kde0.factor,weights=freq)\n",
    "    P=kde(x)\n",
    "    return P\n",
    "\n",
    "def get_P(\n",
    "                DataName=['DD','PROTEINS','NCI1','NCI109','Mutagenicity','ENZYMES'],\n",
    "                N_feature=[89,4,37,38,14,21],\n",
    "                batch_size=32\n",
    "            ):\n",
    "    '''\n",
    "    ['DD','PROTEINS','NCI1','NCI109','Mutagenicity','ENZYMES']\n",
    "    '''\n",
    "    P_dataset={dataname:None for dataname in DataName}\n",
    "    \n",
    "    for i in range(len(DataName)):\n",
    "        dataset = TUDataset(os.path.join('data',DataName[i]), name=DataName[i], use_node_attr=True)\n",
    "        train_loader = DataLoader(dataset, batch_size=batch_size, shuffle=True)\n",
    "        X,edge_index,node_batch,edge_batch=[],[],[],[]\n",
    "        for b,data in enumerate(train_loader):\n",
    "            X.append(data.x)\n",
    "            edge_index.append(data.edge_index)\n",
    "            node_batch.append(torch.zeros(data.x.shape[0])+b)\n",
    "            edge_batch.append(torch.zeros(data.edge_index.shape[1])+b)\n",
    "        X=torch.vstack(X)\n",
    "        edge_index=torch.hstack(edge_index)\n",
    "        node_batch=torch.hstack(node_batch)\n",
    "        edge_batch=torch.hstack(edge_batch)\n",
    "        \n",
    "        P_all=None\n",
    "        use_channel=[]\n",
    "        for channel in tqdm.tqdm(range(N_feature[i])):\n",
    "            x=X[:,channel]\n",
    "            if torch.unique(x).shape[0]==1:\n",
    "                continue\n",
    "            use_channel.append(channel)\n",
    "            P=estimate_P(x,x)\n",
    "            P=torch.tensor(P.reshape(-1,1))\n",
    "            if P_all is None:\n",
    "                P_all=P\n",
    "            else:\n",
    "                P_all=torch.hstack([P_all,P])\n",
    "                \n",
    "        P_all[P_all.isnan()]=0\n",
    "        P_dataset[DataName[i]]=(P_all,edge_index,node_batch,edge_batch,use_channel)\n",
    "    return P_dataset"
   ]
  },
  {
   "cell_type": "code",
   "execution_count": 6,
   "metadata": {},
   "outputs": [
    {
     "name": "stderr",
     "output_type": "stream",
     "text": [
      "100%|██████████| 89/89 [00:20<00:00,  4.39it/s]\n",
      "100%|██████████| 4/4 [00:00<00:00,  6.95it/s]\n",
      "100%|██████████| 37/37 [00:06<00:00,  5.83it/s]\n",
      "100%|██████████| 38/38 [00:06<00:00,  5.64it/s]\n",
      "100%|██████████| 14/14 [00:01<00:00,  7.26it/s]\n",
      "100%|██████████| 21/21 [00:14<00:00,  1.46it/s]\n"
     ]
    }
   ],
   "source": [
    "if not os.path.exists('P_dataset.pkl'):\n",
    "    P_dataset=get_P()\n",
    "    pickle.dump(P_dataset, open('P_dataset.pkl', 'wb'))\n",
    "else:\n",
    "    P_dataset=pickle.load(open('P_dataset.pkl', 'rb'))"
   ]
  },
  {
   "cell_type": "markdown",
   "metadata": {},
   "source": [
    "## entropy"
   ]
  },
  {
   "cell_type": "code",
   "execution_count": 46,
   "metadata": {},
   "outputs": [],
   "source": [
    "import torch\n",
    "import torch.nn as nn\n",
    "from scipy.stats import gaussian_kde\n",
    "import numpy as np"
   ]
  },
  {
   "cell_type": "code",
   "execution_count": 59,
   "metadata": {},
   "outputs": [],
   "source": [
    "from torch_geometric.nn.conv import MessagePassing\n",
    "\n",
    "class EntropyGCN(MessagePassing):\n",
    "    def __init__(self,normalize=True):\n",
    "        super(EntropyGCN, self).__init__(aggr='add')\n",
    "        self.normalize=normalize\n",
    "\n",
    "    def forward(self, P, edge_index,k):\n",
    "        n,c_in=P.shape\n",
    "        edge_index_raw=edge_index\n",
    "        for i in range(0,k-1):\n",
    "            edge_index,_=spspmm(edge_index,None,edge_index_raw,None,n,n,n)\n",
    "\n",
    "\n",
    "        P_local_sum=scatter_sum(P[edge_index[0]],edge_index[1],dim=0)\n",
    "        P_hat=P[edge_index[0]]/P_local_sum[edge_index[1]]\n",
    "        entropy=-scatter_sum(P_hat*torch.log(P_hat),edge_index[1],dim=0)\n",
    "        return entropy\n",
    "\n",
    "    def message(self, x_j, norm):\n",
    "        # x_j: [E,out_channels] (46042,82)\n",
    "        # norm: [E,out_channels] (46042,82)\n",
    "        if norm is None:\n",
    "            return x_j\n",
    "        else:\n",
    "            return  x_j*norm\n",
    "\n",
    "    def update(self, aggr_out):\n",
    "        return aggr_out\n",
    "\n",
    "    def __repr__(self):\n",
    "        return '{}({}, {})'.format(self.__class__.__name__, self.in_channels, self.out_channels)\n",
    "\n",
    "\n",
    "class Bacth_GCN(nn.Module):\n",
    "    def __init__(self):\n",
    "        super(Bacth_GCN,self).__init__()\n",
    "        self.gcn=EntropyGCN()\n",
    "    \n",
    "    def forward(self,P,edge_index,node_batch,edge_batch,k):\n",
    "        node_batch,edge_batch=node_batch.to(P.device),edge_batch.to(P.device)\n",
    "        Batch=torch.unique(node_batch)\n",
    "        Entropy_all=None\n",
    "        for B in Batch:\n",
    "            mask_node=(node_batch==B)\n",
    "            mask_edge=(edge_batch==B)\n",
    "            P0=P[mask_node]\n",
    "            edge_index0=edge_index[:,mask_edge]\n",
    "            \n",
    "            Entropy=self.gcn(P0,edge_index0,k)\n",
    "            \n",
    "            if Entropy_all is None:\n",
    "                Entropy_all=Entropy\n",
    "            else:\n",
    "                Entropy_all=torch.vstack([Entropy_all,Entropy])\n",
    "        \n",
    "        return Entropy_all\n",
    "\n",
    "\n",
    "device=[5]\n",
    "def get_entropy(P_dataset):\n",
    "    '''\n",
    "    ['DD','PROTEINS','NCI1','NCI109','Mutagenicity','ENZYMES']\n",
    "    '''\n",
    "    bgcn=Bacth_GCN().to(device[0])\n",
    "    DataName=['DD','PROTEINS','NCI1','NCI109','Mutagenicity','ENZYMES']\n",
    "    \n",
    "    entropy_all={dataname:[] for dataname in DataName}\n",
    "    with torch.no_grad():\n",
    "        for i in range(len(DataName)):\n",
    "            P,edge_index,node_batch,edge_batch,_=P_dataset[DataName[i]]\n",
    "            P,edge_index = P.to(device[0]),edge_index.to(device[0])\n",
    "            for k in tqdm.tqdm(range(1,10)):\n",
    "                entropy=bgcn(P,edge_index,node_batch,edge_batch,k=k)\n",
    "                entropy_all[DataName[i]].append(entropy)\n",
    "            del P\n",
    "            del edge_index\n",
    "    return entropy_all"
   ]
  },
  {
   "cell_type": "code",
   "execution_count": 61,
   "metadata": {},
   "outputs": [
    {
     "name": "stderr",
     "output_type": "stream",
     "text": [
      "100%|██████████| 9/9 [00:12<00:00,  1.37s/it]\n",
      "100%|██████████| 9/9 [00:11<00:00,  1.29s/it]\n",
      "100%|██████████| 9/9 [00:43<00:00,  4.80s/it]\n",
      "100%|██████████| 9/9 [00:43<00:00,  4.80s/it]\n",
      "100%|██████████| 9/9 [00:45<00:00,  5.06s/it]\n",
      "100%|██████████| 9/9 [00:06<00:00,  1.41it/s]\n"
     ]
    }
   ],
   "source": [
    "if not os.path.exists('entropy_all.pkl'):\n",
    "    entropy_all=get_entropy(P_dataset)\n",
    "    pickle.dump(entropy_all, open('entropy_all.pkl', 'wb'))\n",
    "else:\n",
    "    entropy_all=pickle.load(open('entropy_all.pkl', 'rb'))"
   ]
  },
  {
   "cell_type": "markdown",
   "metadata": {},
   "source": [
    "## visualize entropy"
   ]
  },
  {
   "cell_type": "code",
   "execution_count": 67,
   "metadata": {},
   "outputs": [
    {
     "name": "stderr",
     "output_type": "stream",
     "text": [
      "100%|██████████| 9/9 [05:04<00:00, 33.78s/it]\n",
      "100%|██████████| 9/9 [00:23<00:00,  2.62s/it]\n",
      "100%|██████████| 9/9 [01:47<00:00, 11.91s/it]\n",
      "100%|██████████| 9/9 [01:44<00:00, 11.67s/it]\n",
      "100%|██████████| 9/9 [00:37<00:00,  4.21s/it]\n",
      "100%|██████████| 9/9 [01:50<00:00, 12.26s/it]\n"
     ]
    }
   ],
   "source": [
    "for dataname in ['DD','PROTEINS','NCI1','NCI109','Mutagenicity','ENZYMES']:\n",
    "    for k in tqdm.tqdm(range(9)):\n",
    "        entropy=entropy_all[dataname][k].cpu()\n",
    "        for channel in range(entropy.shape[1]):\n",
    "            value_support=entropy[:,channel]#[entropy[:,channel]>=0]\n",
    "            x_anchor=np.linspace(value_support.min(),value_support.max(),1000)\n",
    "            P = estimate_P(value_support,x_anchor)\n",
    "            plt.scatter(x_anchor,P)\n",
    "            plt.savefig('./figs/{}_{}_{}.png'.format(dataname,channel,k+1))\n",
    "            plt.close()"
   ]
  },
  {
   "cell_type": "markdown",
   "metadata": {},
   "source": [
    "## entropy diff"
   ]
  },
  {
   "cell_type": "code",
   "execution_count": 73,
   "metadata": {},
   "outputs": [],
   "source": [
    "x1=entropy_all['DD'][0][:,0].cpu().numpy()\n",
    "x2=entropy_all['DD'][0][:,1].cpu().numpy()"
   ]
  },
  {
   "cell_type": "code",
   "execution_count": 120,
   "metadata": {},
   "outputs": [],
   "source": [
    "def EntropyDiff_Channel(x1,x2):\n",
    "    x_min=min(np.min(x1),np.min(x2))\n",
    "    x_max=max(np.max(x1),np.max(x2))\n",
    "\n",
    "    anchor=np.linspace(x_min,x_max,1000)\n",
    "    delta=(x_max-x_min)/1000\n",
    "    \n",
    "    P1=estimate_P(x1,anchor)\n",
    "    P2=estimate_P(x2,anchor)\n",
    "    KL=np.sum(delta*P2*np.log((P2+1e-15)/(P1+1e-15)))\n",
    "    return KL\n",
    "\n",
    "def EntropyDiff_MeanChannels(X1,X2):\n",
    "    entropys=[]\n",
    "    for i in range(X1.shape[1]):\n",
    "        x1=X1[:,i]\n",
    "        x2=X2[:,i]\n",
    "        entropys.append(EntropyDiff_Channel(x1,x2))\n",
    "    return np.mean(entropys)\n",
    "\n",
    "def EntropyDiff_Dataset(dataname):\n",
    "    dataset=entropy_all[dataname]\n",
    "    entropy_diffs=[]\n",
    "    for i in tqdm.tqdm(range(0,8)):\n",
    "        X1=dataset[i].cpu().numpy()\n",
    "        X2=dataset[i+1].cpu().numpy()\n",
    "        entropy_diff=EntropyDiff_MeanChannels(X1,X2)\n",
    "        entropy_diffs.append(entropy_diff)\n",
    "    return entropy_diffs"
   ]
  },
  {
   "cell_type": "code",
   "execution_count": 121,
   "metadata": {},
   "outputs": [],
   "source": [
    "def get_EntropyDiffs():\n",
    "    entropy_diffs_DD=EntropyDiff_Dataset('DD')\n",
    "    entropy_diffs_PROTEINS=EntropyDiff_Dataset('PROTEINS')\n",
    "    entropy_diffs_NCI1=EntropyDiff_Dataset('NCI1')\n",
    "    entropy_diffs_NCI109=EntropyDiff_Dataset('NCI109')\n",
    "    entropy_diffs_Mutagenicity=EntropyDiff_Dataset('Mutagenicity')\n",
    "    entropy_diffs_ENZYMES=EntropyDiff_Dataset('ENZYMES')\n",
    "\n",
    "    entropy_diffs={}\n",
    "    entropy_diffs['DD']=entropy_diffs_DD\n",
    "    entropy_diffs['PROTEINS']=entropy_diffs_PROTEINS\n",
    "    entropy_diffs['NCI1']=entropy_diffs_NCI1\n",
    "    entropy_diffs['NCI109']=entropy_diffs_NCI109\n",
    "    entropy_diffs['Mutagenicity']=entropy_diffs_Mutagenicity\n",
    "    entropy_diffs['ENZYMES']=entropy_diffs_ENZYMES\n",
    "    return entropy_diffs"
   ]
  },
  {
   "cell_type": "code",
   "execution_count": 122,
   "metadata": {},
   "outputs": [
    {
     "name": "stderr",
     "output_type": "stream",
     "text": [
      "100%|██████████| 8/8 [03:07<00:00, 23.45s/it]\n",
      "100%|██████████| 8/8 [00:20<00:00,  2.62s/it]\n",
      "100%|██████████| 8/8 [00:12<00:00,  1.57s/it]\n",
      "100%|██████████| 8/8 [00:12<00:00,  1.59s/it]\n",
      "100%|██████████| 8/8 [00:07<00:00,  1.06it/s]\n",
      "100%|██████████| 8/8 [01:51<00:00, 13.97s/it]\n"
     ]
    }
   ],
   "source": [
    "if not os.path.exists('entropy_diffs.pkl'):\n",
    "    entropy_diffs=get_EntropyDiffs()\n",
    "    pickle.dump(entropy_diffs, open('entropy_diffs.pkl', 'wb'))\n",
    "else:\n",
    "    entropy_diffs=pickle.load(open('entropy_diffs.pkl', 'rb'))"
   ]
  },
  {
   "cell_type": "code",
   "execution_count": 123,
   "metadata": {},
   "outputs": [
    {
     "data": {
      "text/plain": [
       "<matplotlib.collections.PathCollection at 0x7f2a57680208>"
      ]
     },
     "execution_count": 123,
     "metadata": {},
     "output_type": "execute_result"
    },
    {
     "data": {
      "image/png": "[encoded data removed]",
      "text/plain": [
       "<Figure size 432x288 with 1 Axes>"
      ]
     },
     "metadata": {
      "needs_background": "light"
     },
     "output_type": "display_data"
    }
   ],
   "source": [
    "plt.scatter(range(0,8),entropy_diffs['DD'])"
   ]
  },
  {
   "cell_type": "code",
   "execution_count": 124,
   "metadata": {},
   "outputs": [
    {
     "data": {
      "text/plain": [
       "<matplotlib.collections.PathCollection at 0x7f29be1ce198>"
      ]
     },
     "execution_count": 124,
     "metadata": {},
     "output_type": "execute_result"
    },
    {
     "data": {
      "image/png": "[encoded data removed]",
      "text/plain": [
       "<Figure size 432x288 with 1 Axes>"
      ]
     },
     "metadata": {
      "needs_background": "light"
     },
     "output_type": "display_data"
    }
   ],
   "source": [
    "plt.scatter(range(0,8),entropy_diffs['PROTEINS'])"
   ]
  },
  {
   "cell_type": "code",
   "execution_count": 125,
   "metadata": {},
   "outputs": [
    {
     "data": {
      "text/plain": [
       "<matplotlib.collections.PathCollection at 0x7f2a1427b748>"
      ]
     },
     "execution_count": 125,
     "metadata": {},
     "output_type": "execute_result"
    },
    {
     "data": {
      "image/png": "[encoded data removed]",
      "text/plain": [
       "<Figure size 432x288 with 1 Axes>"
      ]
     },
     "metadata": {
      "needs_background": "light"
     },
     "output_type": "display_data"
    }
   ],
   "source": [
    "plt.scatter(range(0,8),entropy_diffs['NCI1'])"
   ]
  },
  {
   "cell_type": "code",
   "execution_count": 126,
   "metadata": {},
   "outputs": [
    {
     "data": {
      "text/plain": [
       "<matplotlib.collections.PathCollection at 0x7f29c6816048>"
      ]
     },
     "execution_count": 126,
     "metadata": {},
     "output_type": "execute_result"
    },
    {
     "data": {
      "image/png": "[encoded data removed]",
      "text/plain": [
       "<Figure size 432x288 with 1 Axes>"
      ]
     },
     "metadata": {
      "needs_background": "light"
     },
     "output_type": "display_data"
    }
   ],
   "source": [
    "plt.scatter(range(0,8),entropy_diffs['NCI109'])"
   ]
  },
  {
   "cell_type": "code",
   "execution_count": 127,
   "metadata": {},
   "outputs": [
    {
     "data": {
      "text/plain": [
       "<matplotlib.collections.PathCollection at 0x7f29be274f98>"
      ]
     },
     "execution_count": 127,
     "metadata": {},
     "output_type": "execute_result"
    },
    {
     "data": {
      "image/png": "[encoded data removed]",
      "text/plain": [
       "<Figure size 432x288 with 1 Axes>"
      ]
     },
     "metadata": {
      "needs_background": "light"
     },
     "output_type": "display_data"
    }
   ],
   "source": [
    "plt.scatter(range(0,8),entropy_diffs['Mutagenicity'])"
   ]
  },
  {
   "cell_type": "code",
   "execution_count": 128,
   "metadata": {},
   "outputs": [
    {
     "data": {
      "text/plain": [
       "<matplotlib.collections.PathCollection at 0x7f29be1ba240>"
      ]
     },
     "execution_count": 128,
     "metadata": {},
     "output_type": "execute_result"
    },
    {
     "data": {
      "image/png": "[encoded data removed]",
      "text/plain": [
       "<Figure size 432x288 with 1 Axes>"
      ]
     },
     "metadata": {
      "needs_background": "light"
     },
     "output_type": "display_data"
    }
   ],
   "source": [
    "plt.scatter(range(0,8),entropy_diffs['ENZYMES'])"
   ]
  },
  {
   "cell_type": "markdown",
   "metadata": {
    "heading_collapsed": true
   },
   "source": [
    "# Protein"
   ]
  },
  {
   "cell_type": "code",
   "execution_count": 160,
   "metadata": {
    "hidden": true
   },
   "outputs": [],
   "source": [
    "dataset = TUDataset(os.path.join('data', 'PROTEINS'), name='PROTEINS', use_node_attr=True)\n",
    "train_loader = DataLoader(dataset, batch_size=int(np.sum(dataset.data.num_nodes)), shuffle=True)\n",
    "for data in train_loader:\n",
    "    break\n",
    "\n",
    "X,edge_index=data.x,data.edge_index\n",
    "kdes=[gaussian_kde(X[:,i],bw_method='silverman') for i in range(X.shape[1])]"
   ]
  },
  {
   "cell_type": "code",
   "execution_count": 163,
   "metadata": {
    "hidden": true
   },
   "outputs": [],
   "source": [
    "n = X.shape[0]\n",
    "value = edge_index.new_ones((edge_index.size(1),), dtype=torch.float)\n",
    "deg = scatter_add(value, edge_index[0], dim=0, dim_size=n)\n",
    "\n",
    "P=kdes[1](X[:,1])\n",
    "PlogP=P*np.log2(P)\n",
    "PlogP=torch.tensor(PlogP.reshape(-1,1))"
   ]
  },
  {
   "cell_type": "code",
   "execution_count": 164,
   "metadata": {
    "hidden": true
   },
   "outputs": [
    {
     "data": {
      "text/plain": [
       "<matplotlib.collections.PathCollection at 0x7fe7edd979e8>"
      ]
     },
     "execution_count": 164,
     "metadata": {},
     "output_type": "execute_result"
    },
    {
     "data": {
      "image/png": "[encoded data removed]",
      "text/plain": [
       "<Figure size 432x288 with 1 Axes>"
      ]
     },
     "metadata": {
      "needs_background": "light"
     },
     "output_type": "display_data"
    }
   ],
   "source": [
    "entropy,P=gcn(PlogP,edge_index,k=1)\n",
    "plt.scatter(entropy,P)"
   ]
  },
  {
   "cell_type": "code",
   "execution_count": 165,
   "metadata": {
    "hidden": true
   },
   "outputs": [
    {
     "data": {
      "text/plain": [
       "<matplotlib.collections.PathCollection at 0x7fe7ed588c88>"
      ]
     },
     "execution_count": 165,
     "metadata": {},
     "output_type": "execute_result"
    },
    {
     "data": {
      "image/png": "[encoded data removed]",
      "text/plain": [
       "<Figure size 432x288 with 1 Axes>"
      ]
     },
     "metadata": {
      "needs_background": "light"
     },
     "output_type": "display_data"
    }
   ],
   "source": [
    "entropy,P=gcn(PlogP,edge_index,k=2)\n",
    "plt.scatter(entropy,P)"
   ]
  },
  {
   "cell_type": "code",
   "execution_count": 166,
   "metadata": {
    "hidden": true
   },
   "outputs": [
    {
     "data": {
      "text/plain": [
       "<matplotlib.collections.PathCollection at 0x7fe7efb95c18>"
      ]
     },
     "execution_count": 166,
     "metadata": {},
     "output_type": "execute_result"
    },
    {
     "data": {
      "image/png": "[encoded data removed]",
      "text/plain": [
       "<Figure size 432x288 with 1 Axes>"
      ]
     },
     "metadata": {
      "needs_background": "light"
     },
     "output_type": "display_data"
    }
   ],
   "source": [
    "entropy,P=gcn(PlogP,edge_index,k=3)\n",
    "plt.scatter(entropy,P)"
   ]
  },
  {
   "cell_type": "code",
   "execution_count": 167,
   "metadata": {
    "hidden": true
   },
   "outputs": [
    {
     "data": {
      "text/plain": [
       "<matplotlib.collections.PathCollection at 0x7fe7edf9f358>"
      ]
     },
     "execution_count": 167,
     "metadata": {},
     "output_type": "execute_result"
    },
    {
     "data": {
      "image/png": "[encoded data removed]",
      "text/plain": [
       "<Figure size 432x288 with 1 Axes>"
      ]
     },
     "metadata": {
      "needs_background": "light"
     },
     "output_type": "display_data"
    }
   ],
   "source": [
    "entropy,P=gcn(PlogP,edge_index,k=4)\n",
    "plt.scatter(entropy,P)"
   ]
  },
  {
   "cell_type": "code",
   "execution_count": 168,
   "metadata": {
    "hidden": true
   },
   "outputs": [
    {
     "data": {
      "text/plain": [
       "<matplotlib.collections.PathCollection at 0x7fe7ed812a20>"
      ]
     },
     "execution_count": 168,
     "metadata": {},
     "output_type": "execute_result"
    },
    {
     "data": {
      "image/png": "[encoded data removed]",
      "text/plain": [
       "<Figure size 432x288 with 1 Axes>"
      ]
     },
     "metadata": {
      "needs_background": "light"
     },
     "output_type": "display_data"
    }
   ],
   "source": [
    "entropy,P=gcn(PlogP,edge_index,k=5)\n",
    "plt.scatter(entropy,P)"
   ]
  },
  {
   "cell_type": "code",
   "execution_count": 169,
   "metadata": {
    "hidden": true
   },
   "outputs": [
    {
     "data": {
      "text/plain": [
       "<matplotlib.collections.PathCollection at 0x7fe7ed7e8128>"
      ]
     },
     "execution_count": 169,
     "metadata": {},
     "output_type": "execute_result"
    },
    {
     "data": {
      "image/png": "[encoded data removed]",
      "text/plain": [
       "<Figure size 432x288 with 1 Axes>"
      ]
     },
     "metadata": {
      "needs_background": "light"
     },
     "output_type": "display_data"
    }
   ],
   "source": [
    "entropy,P=gcn(PlogP,edge_index,k=6)\n",
    "plt.scatter(entropy,P)"
   ]
  }
 ],
 "metadata": {
  "kernelspec": {
   "display_name": "ML",
   "language": "python",
   "name": "ml"
  },
  "language_info": {
   "codemirror_mode": {
    "name": "ipython",
    "version": 3
   },
   "file_extension": ".py",
   "mimetype": "text/x-python",
   "name": "python",
   "nbconvert_exporter": "python",
   "pygments_lexer": "ipython3",
   "version": "3.6.10"
  },
  "latex_envs": {
   "LaTeX_envs_menu_present": true,
   "autoclose": false,
   "autocomplete": true,
   "bibliofile": "biblio.bib",
   "cite_by": "apalike",
   "current_citInitial": 1,
   "eqLabelWithNumbers": true,
   "eqNumInitial": 1,
   "hotkeys": {
    "equation": "Ctrl-E",
    "itemize": "Ctrl-I"
   },
   "labels_anchors": false,
   "latex_user_defs": false,
   "report_style_numbering": false,
   "user_envs_cfg": false
  },
  "toc": {
   "base_numbering": 1,
   "nav_menu": {},
   "number_sections": true,
   "sideBar": true,
   "skip_h1_title": false,
   "title_cell": "Table of Contents",
   "title_sidebar": "Contents",
   "toc_cell": false,
   "toc_position": {},
   "toc_section_display": true,
   "toc_window_display": false
  }
 },
 "nbformat": 4,
 "nbformat_minor": 4
}
