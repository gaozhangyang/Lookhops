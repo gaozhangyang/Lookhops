{
 "cells": [
  {
   "cell_type": "markdown",
   "metadata": {},
   "source": [
    "# compare pools(final)"
   ]
  },
  {
   "cell_type": "code",
   "execution_count": 9,
   "metadata": {},
   "outputs": [],
   "source": [
    "import json"
   ]
  },
  {
   "cell_type": "code",
   "execution_count": 10,
   "metadata": {},
   "outputs": [],
   "source": [
    "params={'PROTEINS':{'K':3,\n",
    "             'num_layers':5,\n",
    "             'pooling_nodes':0.6,\n",
    "             'pooling_edges':0.8},\n",
    "        'DD':{'K':3,\n",
    "             'num_layers':5,\n",
    "             'pooling_nodes':0.8,\n",
    "             'pooling_edges':0.7},\n",
    "        'NCI1':{'K':3,\n",
    "             'num_layers':5,\n",
    "             'pooling_nodes':0.9,\n",
    "             'pooling_edges':0.9},\n",
    "        'NCI109':{'K':3,\n",
    "             'num_layers':5,\n",
    "             'pooling_nodes':0.9,\n",
    "             'pooling_edges':0.4},\n",
    "        'Mutagenicity':{'K':3,\n",
    "             'num_layers':5,\n",
    "             'pooling_nodes':0.9,\n",
    "             'pooling_edges':0.7},\n",
    "        'FRANKENSTEIN':{'K':3,\n",
    "             'num_layers':5,\n",
    "             'pooling_nodes':0.9,\n",
    "             'pooling_edges':0.6},\n",
    "       }"
   ]
  },
  {
   "cell_type": "code",
   "execution_count": 12,
   "metadata": {},
   "outputs": [],
   "source": [
    "Seeds=[i*11 for i in range(1,11)]\n",
    "\n",
    "dataname=['PROTEINS','DD','NCI1','NCI109','Mutagenicity','FRANKENSTEIN']\n",
    "\n",
    "json_DD={ \n",
    "        'combine_params' : {\n",
    "            \"_type\" : \"choice\",\n",
    "            \"_value\" : \n",
    "                    [{\n",
    "                        \"conv\":'LiCheb',\n",
    "                        \"pool\":'LookHops',\n",
    "                        \"seed\": seed, \n",
    "                        \"K\":params[data]['K'],\n",
    "                        \"num_layers\": params[data]['num_layers'],\n",
    "                        \"pooling_nodes\":params[data]['pooling_nodes'],\n",
    "                        \"pooling_edges\":params[data]['pooling_nodes'],\n",
    "                        \"decoupled\":False,\n",
    "                        \"dataset\":data\n",
    "                    } for data in dataname for seed in Seeds]\n",
    "            }\n",
    "    }"
   ]
  },
  {
   "cell_type": "code",
   "execution_count": 13,
   "metadata": {},
   "outputs": [],
   "source": [
    "filename = 'search_space_ablation.json'.format(dataname)\n",
    "with open(filename,'w') as f_obj:\n",
    "    json.dump(json_DD,f_obj)"
   ]
  }
 ],
 "metadata": {
  "kernelspec": {
   "display_name": "ML",
   "language": "python",
   "name": "ml"
  },
  "language_info": {
   "codemirror_mode": {
    "name": "ipython",
    "version": 3
   },
   "file_extension": ".py",
   "mimetype": "text/x-python",
   "name": "python",
   "nbconvert_exporter": "python",
   "pygments_lexer": "ipython3",
   "version": "3.6.10"
  },
  "latex_envs": {
   "LaTeX_envs_menu_present": true,
   "autoclose": false,
   "autocomplete": true,
   "bibliofile": "biblio.bib",
   "cite_by": "apalike",
   "current_citInitial": 1,
   "eqLabelWithNumbers": true,
   "eqNumInitial": 1,
   "hotkeys": {
    "equation": "Ctrl-E",
    "itemize": "Ctrl-I"
   },
   "labels_anchors": false,
   "latex_user_defs": false,
   "report_style_numbering": false,
   "user_envs_cfg": false
  },
  "toc": {
   "base_numbering": 1,
   "nav_menu": {},
   "number_sections": true,
   "sideBar": true,
   "skip_h1_title": false,
   "title_cell": "Table of Contents",
   "title_sidebar": "Contents",
   "toc_cell": false,
   "toc_position": {},
   "toc_section_display": true,
   "toc_window_display": false
  }
 },
 "nbformat": 4,
 "nbformat_minor": 4
}
