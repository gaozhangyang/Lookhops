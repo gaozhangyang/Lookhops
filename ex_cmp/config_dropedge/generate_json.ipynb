{
 "cells": [
  {
   "cell_type": "markdown",
   "metadata": {},
   "source": [
    "# edge pool"
   ]
  },
  {
   "cell_type": "code",
   "execution_count": 3,
   "metadata": {},
   "outputs": [],
   "source": [
    "import json"
   ]
  },
  {
   "cell_type": "code",
   "execution_count": 4,
   "metadata": {},
   "outputs": [],
   "source": [
    "params={'PROTEINS':{'K':3,\n",
    "             'num_layers':5,\n",
    "             'pooling_nodes':0.271521829},\n",
    "        'DD':{'K':3,\n",
    "             'num_layers':5,\n",
    "             'pooling_nodes':0.543869989},\n",
    "        'NCI1':{'K':3,\n",
    "             'num_layers':5,\n",
    "             'pooling_nodes':0.632026586},\n",
    "        'NCI109':{'K':3,\n",
    "             'num_layers':4,\n",
    "             'pooling_nodes':0.841586839},\n",
    "        'Mutagenicity':{'K':2,\n",
    "             'num_layers':2,\n",
    "             'pooling_nodes':0.426631657},\n",
    "        'ENZYMES':{'K':1,\n",
    "             'num_layers':4,\n",
    "             'pooling_nodes':0.799915408},\n",
    "        'FRANKENSTEIN':{'K':4,\n",
    "             'num_layers':3,\n",
    "             'pooling_nodes':0.881023822},\n",
    "       }"
   ]
  },
  {
   "cell_type": "code",
   "execution_count": 11,
   "metadata": {},
   "outputs": [],
   "source": [
    "Seeds=[i*11 for i in range(1,11)]\n",
    "edgepool=[0.1,0.2,0.3,0.4,0.5,0.6,0.7,0.8,0.9]\n",
    "dataname='FRANKENSTEIN'\n",
    "\n",
    "json_DD={ \n",
    "        'combine_params' : {\n",
    "            \"_type\" : \"choice\",\n",
    "            \"_value\" : \n",
    "                    [{\n",
    "                        \"conv\":'LiCheb',\n",
    "                        \"pool\":'LookHops',\n",
    "                        \"seed\": seed, \n",
    "                        \"K\":params[dataname]['K'],\n",
    "                        \"num_layers\": params[dataname]['num_layers'],\n",
    "                        \"pooling_nodes\":params[dataname]['pooling_nodes'],\n",
    "                        \"pooling_edges\":ratio,\n",
    "                        \"dataset\":dataname\n",
    "                    } for ratio in edgepool for seed in Seeds]\n",
    "            }\n",
    "    }\n",
    "\n",
    "filename = 'search_space_{}.json'.format(dataname)\n",
    "with open(filename,'w') as f_obj:\n",
    "    json.dump(json_DD,f_obj)"
   ]
  },
  {
   "cell_type": "markdown",
   "metadata": {},
   "source": [
    "# final tune"
   ]
  },
  {
   "cell_type": "code",
   "execution_count": 1,
   "metadata": {},
   "outputs": [],
   "source": [
    "import json\n",
    "\n",
    "params={'PROTEINS':{'K':3,\n",
    "             'num_layers':5,\n",
    "             'pooling_nodes':0.6,\n",
    "             'pooling_edges':0.8},\n",
    "        'DD':{'K':3,\n",
    "             'num_layers':5,\n",
    "             'pooling_nodes':0.8,\n",
    "             'pooling_edges':0.7},\n",
    "        'NCI1':{'K':3,\n",
    "             'num_layers':5,\n",
    "             'pooling_nodes':0.9,\n",
    "             'pooling_edges':0.9},\n",
    "        'NCI109':{'K':3,\n",
    "             'num_layers':5,\n",
    "             'pooling_nodes':0.9,\n",
    "             'pooling_edges':0.4},\n",
    "        'Mutagenicity':{'K':3,\n",
    "             'num_layers':5,\n",
    "             'pooling_nodes':0.9,\n",
    "             'pooling_edges':0.8},\n",
    "        'ENZYMES':{'K':3,\n",
    "             'num_layers':5,\n",
    "             'pooling_nodes':0.8,\n",
    "             'pooling_edges':0.4},\n",
    "        'FRANKENSTEIN':{'K':3,\n",
    "             'num_layers':5,\n",
    "             'pooling_nodes':0.9,\n",
    "             'pooling_edges':0.6},\n",
    "       }"
   ]
  },
  {
   "cell_type": "code",
   "execution_count": 2,
   "metadata": {},
   "outputs": [],
   "source": [
    "Seeds=[i*11 for i in range(1,11)]\n",
    "dataname=['PROTEINS','NCI109','Mutagenicity','FRANKENSTEIN']\n",
    "edge_ratio=[0.6,0.7,0.8,0.9]\n",
    "\n",
    "\n",
    "json_DD={ \n",
    "        'combine_params' : {\n",
    "            \"_type\" : \"choice\",\n",
    "            \"_value\" : \n",
    "                    [{\n",
    "                        \"conv\":'LiCheb',\n",
    "                        \"pool\":'TopkPool',\n",
    "                        \"seed\": seed, \n",
    "                        \"K\":params[data]['K'],\n",
    "                        \"num_layers\": params[data]['num_layers'],\n",
    "                        \"pooling_nodes\":params[data]['pooling_nodes'],\n",
    "                        \"pooling_edges\":ratio,\n",
    "                        \"decoupled\":True,\n",
    "                        \"dataset\":data\n",
    "                    } for data in dataname for seed in Seeds for ratio in edge_ratio]\n",
    "            }\n",
    "    }"
   ]
  },
  {
   "cell_type": "code",
   "execution_count": 3,
   "metadata": {},
   "outputs": [],
   "source": [
    "filename = 'search_space_edge.json'.format(dataname)\n",
    "with open(filename,'w') as f_obj:\n",
    "    json.dump(json_DD,f_obj)"
   ]
  }
 ],
 "metadata": {
  "kernelspec": {
   "display_name": "ML",
   "language": "python",
   "name": "ml"
  },
  "language_info": {
   "codemirror_mode": {
    "name": "ipython",
    "version": 3
   },
   "file_extension": ".py",
   "mimetype": "text/x-python",
   "name": "python",
   "nbconvert_exporter": "python",
   "pygments_lexer": "ipython3",
   "version": "3.6.10"
  },
  "latex_envs": {
   "LaTeX_envs_menu_present": true,
   "autoclose": false,
   "autocomplete": true,
   "bibliofile": "biblio.bib",
   "cite_by": "apalike",
   "current_citInitial": 1,
   "eqLabelWithNumbers": true,
   "eqNumInitial": 1,
   "hotkeys": {
    "equation": "Ctrl-E",
    "itemize": "Ctrl-I"
   },
   "labels_anchors": false,
   "latex_user_defs": false,
   "report_style_numbering": false,
   "user_envs_cfg": false
  },
  "toc": {
   "base_numbering": 1,
   "nav_menu": {},
   "number_sections": true,
   "sideBar": true,
   "skip_h1_title": false,
   "title_cell": "Table of Contents",
   "title_sidebar": "Contents",
   "toc_cell": false,
   "toc_position": {},
   "toc_section_display": true,
   "toc_window_display": false
  }
 },
 "nbformat": 4,
 "nbformat_minor": 4
}
